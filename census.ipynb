{
 "cells": [
  {
   "cell_type": "code",
   "execution_count": 3,
   "id": "c64fd860",
   "metadata": {},
   "outputs": [
    {
     "name": "stdout",
     "output_type": "stream",
     "text": [
      "The autoreload extension is already loaded. To reload it, use:\n",
      "  %reload_ext autoreload\n"
     ]
    }
   ],
   "source": [
    "from folktables import ACSDataSource, ACSHealthInsurance\n",
    "import numpy as np \n",
    "import pandas as pd \n",
    "import matplotlib.pyplot as plt\n",
    "import pickle\n",
    "import os \n",
    "from glob import glob\n",
    "import matplotlib as mpl \n",
    "from sklearn.ensemble import RandomForestClassifier\n",
    "from sklearn.linear_model import LogisticRegression\n",
    "from scipy.stats import permutation_test\n",
    "from sklearn.model_selection import train_test_split\n",
    "from sklearn.pipeline import make_pipeline\n",
    "from sklearn.preprocessing import StandardScaler\n",
    "from methods import * \n",
    "\n",
    "%load_ext autoreload\n",
    "%autoreload 2"
   ]
  },
  {
   "cell_type": "code",
   "execution_count": 14,
   "id": "201b2e7d",
   "metadata": {},
   "outputs": [],
   "source": [
    "state_list = ['AL', 'AK', 'AZ', 'AR', 'CA', 'CO', 'CT', 'DE', 'FL', 'GA', 'HI',\n",
    "              'ID', 'IL', 'IN', 'IA', 'KS', 'KY', 'LA', 'ME', 'MD', 'MA', 'MI',\n",
    "              'MN', 'MS', 'MO', 'MT', 'NE', 'NV', 'NH', 'NJ', 'NM', 'NY', 'NC',\n",
    "              'ND', 'OH', 'OK', 'OR', 'PA', 'RI', 'SC', 'SD', 'TN', 'TX', 'UT',\n",
    "              'VT', 'VA', 'WA', 'WV', 'WI', 'WY', 'PR']\n"
   ]
  },
  {
   "cell_type": "code",
   "execution_count": 39,
   "id": "8847eeef",
   "metadata": {},
   "outputs": [
    {
     "data": {
      "text/plain": [
       "(array([31514.,  9040., 15555., 16207., 12843., 26737., 64410., 77449.,\n",
       "        86355., 38707.]),\n",
       " array([ 0. ,  2.4,  4.8,  7.2,  9.6, 12. , 14.4, 16.8, 19.2, 21.6, 24. ]),\n",
       " <BarContainer object of 10 artists>)"
      ]
     },
     "execution_count": 39,
     "metadata": {},
     "output_type": "execute_result"
    },
    {
     "data": {
      "image/png": "[encoded data removed]",
      "text/plain": [
       "<Figure size 432x288 with 1 Axes>"
      ]
     },
     "metadata": {
      "needs_background": "light"
     },
     "output_type": "display_data"
    }
   ],
   "source": [
    "plt.hist(features[:,1])"
   ]
  },
  {
   "cell_type": "code",
   "execution_count": 96,
   "id": "3396c647",
   "metadata": {},
   "outputs": [
    {
     "name": "stdout",
     "output_type": "stream",
     "text": [
      "RI\n"
     ]
    }
   ],
   "source": [
    "data_source = ACSDataSource(survey_year=2018, horizon='1-Year', survey='person')\n",
    "# acs_data = data_source.get_data(states=[\"RI\"], download=True)\n",
    "# features, labels, group = ACSHealthInsurance.df_to_numpy(acs_data)\n",
    "\n",
    "\n",
    "# for state in state_list: \n",
    "#     acs_data = data_source.get_data(states=[state], download=True)\n",
    "#     features, labels, group = ACSHealthInsurance.df_to_numpy(acs_data)\n",
    "#     y1 = model.predict(features[(features[:,1] < 18 )*(labels == 1)])\n",
    "#     y2 = model.predict(features[(features[:,1] > 21)*(labels == 1)])\n",
    "#     if np.abs(np.mean(y1) - np.mean(y2)) >= 0.1: \n",
    "#         print(state)\n",
    "#         break \n",
    "#     y1 = model.predict(features[(features[:,1] < 18)])\n",
    "#     y2 = model.predict(features[(features[:,1] > 21)])\n",
    "#     if np.abs(np.mean(y1) - np.mean(y2)) >= 0.1: \n",
    "#         print(state)\n",
    "#         break "
   ]
  },
  {
   "cell_type": "code",
   "execution_count": 97,
   "id": "9dd96727",
   "metadata": {},
   "outputs": [],
   "source": [
    "acs_data = data_source.get_data(states=[\"RI\"], download=True)\n",
    "features, labels, group = ACSHealthInsurance.df_to_numpy(acs_data)\n"
   ]
  },
  {
   "cell_type": "code",
   "execution_count": 85,
   "id": "402181e2",
   "metadata": {},
   "outputs": [
    {
     "data": {
      "text/plain": [
       "RandomForestClassifier()"
      ]
     },
     "execution_count": 85,
     "metadata": {},
     "output_type": "execute_result"
    }
   ],
   "source": [
    "model = RandomForestClassifier()\n",
    "np.random.seed(42)\n",
    "inds = np.random.choice(features.shape[0], 2000, replace=False)\n",
    "model.fit(features[inds,:], labels[inds])"
   ]
  },
  {
   "cell_type": "code",
   "execution_count": 98,
   "id": "c6b4b095",
   "metadata": {},
   "outputs": [],
   "source": [
    "y1 = model.predict(features[(features[:,1] < 10)*(labels == 1)])\n",
    "y2 = model.predict(features[(features[:,1] > 21)*(labels == 1)])"
   ]
  },
  {
   "cell_type": "code",
   "execution_count": 100,
   "id": "0e24996e",
   "metadata": {},
   "outputs": [
    {
     "data": {
      "text/plain": [
       "(149, 269)"
      ]
     },
     "execution_count": 100,
     "metadata": {},
     "output_type": "execute_result"
    }
   ],
   "source": [
    "len(y1), len(y2)"
   ]
  },
  {
   "cell_type": "code",
   "execution_count": 99,
   "id": "7ff8094f",
   "metadata": {},
   "outputs": [
    {
     "data": {
      "text/plain": [
       "(0.026845637583892617, 0.1449814126394052)"
      ]
     },
     "execution_count": 99,
     "metadata": {},
     "output_type": "execute_result"
    }
   ],
   "source": [
    "np.mean(y1), np.mean(y2)"
   ]
  }
 ],
 "metadata": {
  "kernelspec": {
   "display_name": "Python 3 (ipykernel)",
   "language": "python",
   "name": "python3"
  },
  "language_info": {
   "codemirror_mode": {
    "name": "ipython",
    "version": 3
   },
   "file_extension": ".py",
   "mimetype": "text/x-python",
   "name": "python",
   "nbconvert_exporter": "python",
   "pygments_lexer": "ipython3",
   "version": "3.9.12"
  }
 },
 "nbformat": 4,
 "nbformat_minor": 5
}
