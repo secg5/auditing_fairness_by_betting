{
 "cells": [
  {
   "cell_type": "code",
   "execution_count": 1,
   "id": "b37788b8",
   "metadata": {},
   "outputs": [],
   "source": [
    "import numpy as np \n",
    "import pandas as pd \n",
    "import matplotlib.pyplot as plt\n",
    "import pickle\n",
    "import os \n",
    "from glob import glob\n",
    "import matplotlib as mpl \n",
    "from sklearn.ensemble import RandomForestClassifier\n",
    "from sklearn.linear_model import LogisticRegression\n",
    "from scipy.stats import permutation_test\n",
    "from sklearn.model_selection import train_test_split\n",
    "from sklearn.pipeline import make_pipeline\n",
    "from sklearn.preprocessing import StandardScaler\n",
    "from methods import * \n",
    "\n",
    "%load_ext autoreload\n",
    "%autoreload 2"
   ]
  },
  {
   "cell_type": "code",
   "execution_count": 2,
   "id": "8744bfc5",
   "metadata": {},
   "outputs": [],
   "source": [
    "data_url = \"http://archive.ics.uci.edu/ml/machine-learning-databases/00350/default%20of%20credit%20card%20clients.xls\"\n",
    "dataset = (\n",
    "    pd.read_excel(io=data_url, header=1)\n",
    "    .drop(columns=[\"ID\"])\n",
    "    .rename(\n",
    "        columns={\"PAY_0\": \"PAY_1\", \"default payment next month\": \"default\"}\n",
    "    )\n",
    ")\n",
    "\n",
    "np.random.seed(42)\n",
    "train_inds = np.random.choice(dataset.shape[0], 10000, replace=False)\n",
    "df_train = dataset.iloc[train_inds]\n",
    "\n",
    "X_train = df_train.drop(columns='default')\n",
    "y_train = df_train['default']"
   ]
  },
  {
   "cell_type": "code",
   "execution_count": 4,
   "id": "deb43331",
   "metadata": {},
   "outputs": [
    {
     "data": {
      "text/plain": [
       "((5755, 23), (2714, 23))"
      ]
     },
     "execution_count": 4,
     "metadata": {},
     "output_type": "execute_result"
    }
   ],
   "source": [
    "clf = RandomForestClassifier(random_state=42)\n",
    "clf.fit(X_train, y_train)\n",
    "df_test = dataset[~dataset.index.isin(train_inds)]\n",
    "df1 = df_test[(df_test.EDUCATION <= 1) & (df_test.default == 0)]\n",
    "df2 = df_test[(df_test.EDUCATION >= 3) & (df_test.default == 0)]\n",
    "X1 = df1.drop(columns='default')\n",
    "X2 = df2.drop(columns='default')\n",
    "X1.shape, X2.shape"
   ]
  },
  {
   "cell_type": "code",
   "execution_count": 7,
   "id": "170901b1",
   "metadata": {},
   "outputs": [
    {
     "name": "stdout",
     "output_type": "stream",
     "text": [
      "0.03770634231103388 0.07184966838614591 0.07184966838614593 0.07184966838614591\n"
     ]
    }
   ],
   "source": [
    "y1 = clf.predict(X1)\n",
    "y2 = clf.predict(X2)\n",
    "\n",
    "z1 = y1 + np.mean(y2) - np.mean(y1)\n",
    "z2 = y2\n",
    "print(np.mean(y1), np.mean(y2), np.mean(z1), np.mean(z2))"
   ]
  },
  {
   "cell_type": "code",
   "execution_count": null,
   "id": "5fa8a236",
   "metadata": {},
   "outputs": [],
   "source": [
    "alphas = np.linspace(0.005, 0.1, 20)\n",
    "iters = 20 \n",
    "\n",
    "betting_tau, _ = betting_experiment(y1, y2, alphas, iters) # Alternative \n",
    "_, betting_fdr = betting_experiment(z1, z2, alphas, iters) # Null \n",
    "\n",
    "permb_250_tau, _ = seq_perm_test_experiment(y1, y2, alphas, iters, k=250, bonferroni=True)\n",
    "_, permb_250_fdr = seq_perm_test_experiment(z1, z2, alphas, iters, k=250, bonferroni=True)\n",
    "\n",
    "permb_500_tau, _ = seq_perm_test_experiment(y1, y2, alphas, iters, k=500, bonferroni=True)\n",
    "_, permb_500_fdr = seq_perm_test_experiment(z1, z2, alphas, iters, k=500, bonferroni=True)\n",
    "\n",
    "permb_1000_tau, _ = seq_perm_test_experiment(y1, y2, alphas, iters, k=1000, bonferroni=True)\n",
    "_, permb_1000_fdr = seq_perm_test_experiment(z1, z2, alphas, iters, k=1000, bonferroni=True)\n",
    "\n",
    "\n",
    "save_results('betting_loan_tau', betting_tau)\n",
    "save_results('betting_loan_fdr', betting_fdr)\n",
    "save_results('permb_250_loan_tau', permb_250_tau)\n",
    "save_results('permb_250_loan_fdr', permb_250_fdr)\n",
    "save_results('permb_500_loan_tau', permb_500_tau)\n",
    "save_results('permb_500_loan_fdr', permb_500_fdr)\n",
    "save_results('permb_1000_loan_tau', permb_1000_tau)\n",
    "save_results('permb_1000_loan_fdr', permb_1000_fdr)"
   ]
  },
  {
   "cell_type": "code",
   "execution_count": 19,
   "id": "ffcb90e6",
   "metadata": {},
   "outputs": [],
   "source": [
    "perm_250_tau, _ = seq_perm_test_experiment(y1, y2, alphas, iters, k=250, bonferroni=False)\n",
    "_, perm_250_fdr = seq_perm_test_experiment(z1, z2, alphas, iters, k=250, bonferroni=False)\n",
    "\n",
    "perm_500_tau, _ = seq_perm_test_experiment(y1, y2, alphas, iters, k=500, bonferroni=False)\n",
    "_, perm_500_fdr = seq_perm_test_experiment(z1, z2, alphas, iters, k=500, bonferroni=False)\n",
    "\n",
    "perm_1000_tau, _ = seq_perm_test_experiment(y1, y2, alphas, iters, k=1000, bonferroni=False)\n",
    "_, perm_1000_fdr = seq_perm_test_experiment(z1, z2, alphas, iters, k=1000, bonferroni=False)\n",
    "\n",
    "save_results('perm_250_loan_tau', perm_250_tau)\n",
    "save_results('perm_250_loan_fdr', perm_250_fdr)\n",
    "save_results('perm_500_loan_tau', perm_500_tau)\n",
    "save_results('perm_500_loan_fdr', perm_500_fdr)\n",
    "save_results('perm_1000_loan_tau', perm_1000_tau)\n",
    "save_results('perm_1000_loan_fdr', perm_1000_fdr)\n"
   ]
  },
  {
   "cell_type": "code",
   "execution_count": 38,
   "id": "dd639e6f",
   "metadata": {},
   "outputs": [
    {
     "data": {
      "text/plain": [
       "190"
      ]
     },
     "execution_count": 38,
     "metadata": {},
     "output_type": "execute_result"
    }
   ],
   "source": [
    "len(betting_tau)"
   ]
  },
  {
   "cell_type": "code",
   "execution_count": 37,
   "id": "ae317e95",
   "metadata": {},
   "outputs": [
    {
     "data": {
      "text/plain": [
       "Text(0, 0.5, 'FPR under $H_0$')"
      ]
     },
     "execution_count": 37,
     "metadata": {},
     "output_type": "execute_result"
    },
    {
     "data": {
      "image/png": "[encoded data removed]",
      "text/plain": [
       "<Figure size 432x288 with 1 Axes>"
      ]
     },
     "metadata": {
      "needs_background": "light"
     },
     "output_type": "display_data"
    }
   ],
   "source": [
    "betting_tau = load_results('betting_loan_tau')\n",
    "betting_fdr = load_results('betting_loan_fdr')\n",
    "permb_250_tau = load_results('permb_250_loan_tau')\n",
    "permb_250_fdr = load_results('permb_250_loan_fdr')\n",
    "permb_500_tau = load_results('permb_500_loan_tau')\n",
    "permb_500_fdr = load_results('permb_500_loan_fdr')\n",
    "permb_1000_tau = load_results('permb_1000_loan_tau')\n",
    "permb_1000_fdr = load_results('permb_1000_loan_fdr')\n",
    "\n",
    "\n",
    "cm = plt.get_cmap('viridis') \n",
    "cmap = [cm(i) for i in np.linspace(0,1,3)]\n",
    "\n",
    "\n",
    "plt.plot(np.mean(betting_tau, axis=0), np.mean(betting_fdr, axis=0), 'o', c='red', label='Betting')\n",
    "plt.plot(np.mean(permb_250_tau, axis=0), np.mean(permb_250_fdr, axis=0), 'o', c=cmap[0], label='Perm. test, $k=250$')\n",
    "plt.plot(np.mean(permb_500_tau, axis=0), np.mean(permb_500_fdr, axis=0), 'o', c=cmap[1], label='Perm test, $k=500$')\n",
    "plt.plot(np.mean(permb_1000_tau, axis=0), np.mean(permb_1000_fdr, axis=0), 'o', c=cmap[2], label='Perm. test, $k=1000$')\n",
    "\n",
    "plt.legend()\n",
    "plt.xlabel('Rejection time $\\\\tau$ under $H_1$')\n",
    "plt.ylabel('FPR under $H_0$')\n",
    "    "
   ]
  },
  {
   "cell_type": "code",
   "execution_count": 20,
   "id": "f55fb065",
   "metadata": {},
   "outputs": [
    {
     "data": {
      "text/plain": [
       "Text(0, 0.5, 'FPR under $H_0$')"
      ]
     },
     "execution_count": 20,
     "metadata": {},
     "output_type": "execute_result"
    },
    {
     "data": {
      "image/png": "[encoded data removed]",
      "text/plain": [
       "<Figure size 432x288 with 1 Axes>"
      ]
     },
     "metadata": {
      "needs_background": "light"
     },
     "output_type": "display_data"
    }
   ],
   "source": [
    "cm = plt.get_cmap('viridis') \n",
    "cmap = [cm(i) for i in np.linspace(0,1,3)]\n",
    "\n",
    "\n",
    "plt.plot(np.mean(betting_tau, axis=0), np.mean(betting_fdr, axis=0), 'o', c='red', label='Betting')\n",
    "plt.plot(np.mean(perm_250_tau, axis=0), np.mean(perm_250_fdr, axis=0), 'o', c=cmap[0], label='Perm. test, $k=250$')\n",
    "plt.plot(np.mean(perm_500_tau, axis=0), np.mean(perm_500_fdr, axis=0), 'o', c=cmap[1], label='Perm test, $k=500$')\n",
    "plt.plot(np.mean(perm_1000_tau, axis=0), np.mean(perm_1000_fdr, axis=0), 'o', c=cmap[2], label='Perm. test, $k=1000$')\n",
    "\n",
    "plt.legend()\n",
    "plt.xlabel('Rejection time $\\\\tau$ under $H_1$')\n",
    "plt.ylabel('FPR under $H_0$')\n",
    "    "
   ]
  }
 ],
 "metadata": {
  "kernelspec": {
   "display_name": "Python 3 (ipykernel)",
   "language": "python",
   "name": "python3"
  },
  "language_info": {
   "codemirror_mode": {
    "name": "ipython",
    "version": 3
   },
   "file_extension": ".py",
   "mimetype": "text/x-python",
   "name": "python",
   "nbconvert_exporter": "python",
   "pygments_lexer": "ipython3",
   "version": "3.9.12"
  }
 },
 "nbformat": 4,
 "nbformat_minor": 5
}
