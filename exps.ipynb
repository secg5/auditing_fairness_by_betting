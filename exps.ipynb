{
 "cells": [
  {
   "cell_type": "code",
   "execution_count": null,
   "id": "ba7bf34f",
   "metadata": {},
   "outputs": [],
   "source": [
    "import numpy as np \n",
    "import math\n",
    "from scipy.stats import bernoulli\n",
    "from scipy.stats import beta\n",
    "import matplotlib.pyplot as plt \n",
    "from scipy.optimize import minimize"
   ]
  },
  {
   "cell_type": "code",
   "execution_count": null,
   "id": "40c81058",
   "metadata": {},
   "outputs": [],
   "source": [
    "np.log(2)"
   ]
  },
  {
   "cell_type": "code",
   "execution_count": null,
   "id": "fa04a0b9",
   "metadata": {},
   "outputs": [],
   "source": [
    "np.arange(1,10)**2"
   ]
  },
  {
   "cell_type": "code",
   "execution_count": null,
   "id": "617ee7c3",
   "metadata": {},
   "outputs": [],
   "source": [
    "def wealth_process(seq, alpha=0.05): \n",
    "    # Construct wealth process from sequence X using ONS \n",
    "    \n",
    "    wealth = 1\n",
    "    wealth_hist = [1] \n",
    "    const = 2 / (2 - np.log(3))\n",
    "    lambd = 0 \n",
    "    zt2 = 0 \n",
    "    for t in range(len(seq)): \n",
    "                \n",
    "        St = 1 - lambd*seq[t]\n",
    "        wealth = wealth * St \n",
    "        wealth_hist.append(wealth)\n",
    "        if wealth > 2/alpha: \n",
    "            #print(f\"Reject at time {t}\")\n",
    "            break \n",
    "        \n",
    "        # Update lambda via ONS  \n",
    "        z = seq[t] / (1 - lambd*seq[t])\n",
    "        zt2 += z**2\n",
    "        lambd = max(min(lambd - const*z/(1 + zt2), 1/2), -1/2)\n",
    "        \n",
    "    return wealth_hist\n",
    "           "
   ]
  },
  {
   "cell_type": "code",
   "execution_count": null,
   "id": "1fb0e0a9",
   "metadata": {},
   "outputs": [],
   "source": [
    "import matplotlib as mpl \n"
   ]
  },
  {
   "cell_type": "code",
   "execution_count": null,
   "id": "bbb376a4",
   "metadata": {},
   "outputs": [],
   "source": [
    "mpl.rcParams['font.size'] = 14"
   ]
  },
  {
   "cell_type": "code",
   "execution_count": null,
   "id": "8dc18836",
   "metadata": {},
   "outputs": [],
   "source": [
    "size = 300\n",
    "X1 = bernoulli.rvs(0.7, size=size)\n",
    "X2 = bernoulli.rvs(0.4, size=size)\n",
    "X3 = bernoulli.rvs(0.4, size=size)\n",
    "X4 = bernoulli.rvs(0.55, size=size)\n",
    "seq = X1 - X2\n",
    "wealth = wealth_process(seq, alpha=0.01)\n",
    "plt.plot(range(len(wealth)), wealth, label='$\\Delta=0.3$', c='navy')\n",
    "seq = X3 - X4\n",
    "wealth = wealth_process(seq, alpha=0.01)\n",
    "plt.plot(range(len(wealth)), wealth, label='$\\Delta = 0.1$', c='purple')\n",
    "seq = X2 - X3\n",
    "wealth = wealth_process(seq, alpha=0.01)\n",
    "plt.plot(range(len(wealth)), wealth, label='$\\Delta=0$', c='olive')\n",
    "\n",
    "plt.title('Growth of wealth process', fontsize=14)\n",
    "plt.yscale('log')\n",
    "plt.ylabel('Wealth')\n",
    "plt.xlabel('Time')\n",
    "plt.legend()\n",
    "\n",
    "plt.savefig('plots/wealth_proc.png', dpi=300, bbox_inches='tight')"
   ]
  },
  {
   "cell_type": "code",
   "execution_count": null,
   "id": "a67f2bc2",
   "metadata": {},
   "outputs": [],
   "source": [
    "deltas = np.linspace(0, 1, 40)\n",
    "\n",
    " \n",
    "times = []\n",
    "n_iters = 50 \n",
    "for _ in range(n_iters): \n",
    "    ts = []\n",
    "    for delta in deltas: \n",
    "        X1 = bernoulli.rvs(0.5 - delta/2, size=500)\n",
    "        X2 = bernoulli.rvs(0.5 + delta/2, size=500)\n",
    "        seq = X1 - X2\n",
    "        wealth = wealth_process(seq, alpha=0.01)\n",
    "        ts.append(len(wealth))\n",
    "    times.append(ts)\n",
    "    \n"
   ]
  },
  {
   "cell_type": "code",
   "execution_count": null,
   "id": "ac96683e",
   "metadata": {},
   "outputs": [],
   "source": [
    "avg_times = np.mean(times, axis=0)[3:]\n",
    "std = np.std(times, axis=0)[3:]\n",
    "\n",
    "plt.plot(deltas[3:], avg_times, lw=3)\n",
    "plt.fill_between(deltas[3:], avg_times + std, avg_times - std, alpha=0.2)\n",
    "plt.title('Time to rejection under alternative', fontsize=14)\n",
    "plt.xlabel('$|\\mu_0-\\mu_1|$')\n",
    "plt.ylabel('Time')\n",
    "plt.yscale('log')\n",
    "\n",
    "plt.savefig('plots/time_to_reject.png', dpi=300, bbox_inches='tight')"
   ]
  }
 ],
 "metadata": {
  "kernelspec": {
   "display_name": "Python 3 (ipykernel)",
   "language": "python",
   "name": "python3"
  },
  "language_info": {
   "codemirror_mode": {
    "name": "ipython",
    "version": 3
   },
   "file_extension": ".py",
   "mimetype": "text/x-python",
   "name": "python",
   "nbconvert_exporter": "python",
   "pygments_lexer": "ipython3",
   "version": "3.9.12"
  }
 },
 "nbformat": 4,
 "nbformat_minor": 5
}
