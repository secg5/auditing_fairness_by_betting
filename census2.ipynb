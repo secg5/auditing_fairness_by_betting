{
 "cells": [
  {
   "cell_type": "code",
   "execution_count": 1,
   "id": "6f12327f",
   "metadata": {},
   "outputs": [],
   "source": [
    "from folktables import ACSDataSource, ACSHealthInsurance\n",
    "import numpy as np \n",
    "import pandas as pd \n",
    "import matplotlib.pyplot as plt\n",
    "import pickle\n",
    "import os \n",
    "from glob import glob\n",
    "import matplotlib as mpl \n",
    "from sklearn.ensemble import RandomForestClassifier\n",
    "from sklearn.linear_model import LogisticRegression\n",
    "from scipy.stats import permutation_test\n",
    "from sklearn.model_selection import train_test_split\n",
    "from sklearn.pipeline import make_pipeline\n",
    "from sklearn.preprocessing import StandardScaler\n",
    "from methods import * \n",
    "\n",
    "%load_ext autoreload\n",
    "%autoreload 2"
   ]
  },
  {
   "cell_type": "code",
   "execution_count": 2,
   "id": "b972ba08",
   "metadata": {},
   "outputs": [],
   "source": [
    "data_source = ACSDataSource(survey_year=2018, horizon='1-Year', survey='person')\n",
    "acs_data = data_source.get_data(states=[\"CA\"], download=True)\n",
    "features, labels, group = ACSHealthInsurance.df_to_numpy(acs_data)\n"
   ]
  },
  {
   "cell_type": "code",
   "execution_count": 3,
   "id": "0ea56045",
   "metadata": {},
   "outputs": [
    {
     "data": {
      "text/plain": [
       "RandomForestClassifier(random_state=42)"
      ]
     },
     "execution_count": 3,
     "metadata": {},
     "output_type": "execute_result"
    }
   ],
   "source": [
    "model = RandomForestClassifier(random_state=42)\n",
    "np.random.seed(42)\n",
    "inds = np.random.choice(features.shape[0], 2000, replace=False)\n",
    "model.fit(features[inds,:], labels[inds])"
   ]
  },
  {
   "cell_type": "code",
   "execution_count": 4,
   "id": "5cab4a9d",
   "metadata": {},
   "outputs": [
    {
     "data": {
      "text/plain": [
       "(0.13895962168061113,\n",
       " 0.04567485090851068,\n",
       " 0.13895962168061113,\n",
       " 0.13895962168061116)"
      ]
     },
     "execution_count": 4,
     "metadata": {},
     "output_type": "execute_result"
    }
   ],
   "source": [
    "y1 = model.predict(features[(features[:,11] == 1)*(labels == 1)])\n",
    "y2 = model.predict(features[(features[:,11] != 1)*(labels == 1)])\n",
    "y1 = [1 if y else 0 for y in y1]\n",
    "y2 = [1 if y else 0 for y in y2]\n",
    "\n",
    "z1 = y1 \n",
    "z2 = y2 + np.mean(y1) - np.mean(y2)\n",
    "\n",
    "\n",
    "np.mean(y1), np.mean(y2), np.mean(z1), np.mean(z2)"
   ]
  },
  {
   "cell_type": "code",
   "execution_count": 20,
   "id": "56c07f79",
   "metadata": {},
   "outputs": [],
   "source": [
    "alphas = np.linspace(0.005, 0.1, 20)\n",
    "iters = 30 \n",
    "\n",
    "permb_50_tau, _ = seq_perm_test_experiment(y1, y2, alphas, iters, k=50, bonferroni=True)\n",
    "_, permb_50_fdr = seq_perm_test_experiment(z1, z2, alphas, iters, k=50, bonferroni=True)\n",
    "\n",
    "permb_100_tau, _ = seq_perm_test_experiment(y1, y2, alphas, iters, k=100, bonferroni=True)\n",
    "_, permb_100_fdr = seq_perm_test_experiment(z1, z2, alphas, iters, k=100, bonferroni=True)\n",
    "\n",
    "permb_200_tau, _ = seq_perm_test_experiment(y1, y2, alphas, iters, k=200, bonferroni=True)\n",
    "_, permb_200_fdr = seq_perm_test_experiment(z1, z2, alphas, iters, k=200, bonferroni=True)\n",
    "\n",
    "save_results('permb_50_census_tau', permb_50_tau)\n",
    "save_results('permb_50_census_fdr', permb_50_fdr)\n",
    "save_results('permb_100_census_tau', permb_100_tau)\n",
    "save_results('permb_100_census_fdr', permb_100_fdr)\n",
    "save_results('permb_200_census_tau', permb_200_tau)\n",
    "save_results('permb_200_census_fdr', permb_200_fdr)\n"
   ]
  },
  {
   "cell_type": "code",
   "execution_count": 15,
   "id": "47abf0ea",
   "metadata": {},
   "outputs": [],
   "source": [
    "shift_time = 400\n",
    "seq1 = np.concatenate((z1[:shift_time], y1[shift_time:]))\n",
    "seq2 = np.concatenate((z2[:shift_time], y2[shift_time:]))\n",
    "\n"
   ]
  },
  {
   "cell_type": "code",
   "execution_count": 19,
   "id": "e7a36c67",
   "metadata": {},
   "outputs": [],
   "source": [
    "iters = 30 \n",
    "\n",
    "betting_shift, _ = betting_experiment(seq1, seq2, alphas, iters, shift_time=shift_time) # Alternative \n",
    "permb_50_shift, _ = seq_perm_test_experiment(seq1, seq2, alphas, iters, k=50, bonferroni=True, shift_time=shift_time)\n",
    "permb_100_shift, _ = seq_perm_test_experiment(seq1, seq2, alphas, iters, k=100, bonferroni=True, shift_time=shift_time)\n",
    "permb_200_shift, _ = seq_perm_test_experiment(seq1, seq2, alphas, iters, k=200, bonferroni=True, shift_time=shift_time)\n",
    "\n",
    "save_results('betting_shift_census', betting_shift)\n",
    "save_results('permb_50_shift_census', permb_50_shift)\n",
    "save_results('permb_100_shift_census', permb_100_shift)\n",
    "save_results('permb_200_shift_census', permb_200_shift)"
   ]
  }
 ],
 "metadata": {
  "kernelspec": {
   "display_name": "Python 3 (ipykernel)",
   "language": "python",
   "name": "python3"
  },
  "language_info": {
   "codemirror_mode": {
    "name": "ipython",
    "version": 3
   },
   "file_extension": ".py",
   "mimetype": "text/x-python",
   "name": "python",
   "nbconvert_exporter": "python",
   "pygments_lexer": "ipython3",
   "version": "3.9.12"
  }
 },
 "nbformat": 4,
 "nbformat_minor": 5
}
