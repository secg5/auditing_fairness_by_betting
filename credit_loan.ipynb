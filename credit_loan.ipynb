{
 "cells": [
  {
   "cell_type": "code",
   "execution_count": 103,
   "id": "ab25b454",
   "metadata": {},
   "outputs": [
    {
     "name": "stdout",
     "output_type": "stream",
     "text": [
      "The autoreload extension is already loaded. To reload it, use:\n",
      "  %reload_ext autoreload\n"
     ]
    }
   ],
   "source": [
    "import numpy as np \n",
    "import pandas as pd \n",
    "import matplotlib.pyplot as plt\n",
    "import pickle\n",
    "import os \n",
    "from glob import glob\n",
    "import matplotlib as mpl \n",
    "from sklearn.ensemble import RandomForestClassifier\n",
    "from sklearn.linear_model import LogisticRegression\n",
    "from scipy.stats import permutation_test\n",
    "from sklearn.model_selection import train_test_split\n",
    "from sklearn.pipeline import make_pipeline\n",
    "from sklearn.preprocessing import StandardScaler\n",
    "from methods import * \n",
    "\n",
    "%load_ext autoreload\n",
    "%autoreload 2"
   ]
  },
  {
   "cell_type": "code",
   "execution_count": 2,
   "id": "2fddbcfd",
   "metadata": {},
   "outputs": [
    {
     "data": {
      "text/plain": [
       "(30000, 24)"
      ]
     },
     "execution_count": 2,
     "metadata": {},
     "output_type": "execute_result"
    }
   ],
   "source": [
    "data_url = \"http://archive.ics.uci.edu/ml/machine-learning-databases/00350/default%20of%20credit%20card%20clients.xls\"\n",
    "dataset = (\n",
    "    pd.read_excel(io=data_url, header=1)\n",
    "    .drop(columns=[\"ID\"])\n",
    "    .rename(\n",
    "        columns={\"PAY_0\": \"PAY_1\", \"default payment next month\": \"default\"}\n",
    "    )\n",
    ")\n",
    "\n",
    "dataset.shape"
   ]
  },
  {
   "cell_type": "code",
   "execution_count": 3,
   "id": "1745afa8",
   "metadata": {},
   "outputs": [
    {
     "data": {
      "text/html": [
       "<div>\n",
       "<style scoped>\n",
       "    .dataframe tbody tr th:only-of-type {\n",
       "        vertical-align: middle;\n",
       "    }\n",
       "\n",
       "    .dataframe tbody tr th {\n",
       "        vertical-align: top;\n",
       "    }\n",
       "\n",
       "    .dataframe thead th {\n",
       "        text-align: right;\n",
       "    }\n",
       "</style>\n",
       "<table border=\"1\" class=\"dataframe\">\n",
       "  <thead>\n",
       "    <tr style=\"text-align: right;\">\n",
       "      <th></th>\n",
       "      <th>LIMIT_BAL</th>\n",
       "      <th>SEX</th>\n",
       "      <th>EDUCATION</th>\n",
       "      <th>MARRIAGE</th>\n",
       "      <th>AGE</th>\n",
       "      <th>PAY_1</th>\n",
       "      <th>PAY_2</th>\n",
       "      <th>PAY_3</th>\n",
       "      <th>PAY_4</th>\n",
       "      <th>PAY_5</th>\n",
       "      <th>...</th>\n",
       "      <th>BILL_AMT4</th>\n",
       "      <th>BILL_AMT5</th>\n",
       "      <th>BILL_AMT6</th>\n",
       "      <th>PAY_AMT1</th>\n",
       "      <th>PAY_AMT2</th>\n",
       "      <th>PAY_AMT3</th>\n",
       "      <th>PAY_AMT4</th>\n",
       "      <th>PAY_AMT5</th>\n",
       "      <th>PAY_AMT6</th>\n",
       "      <th>default</th>\n",
       "    </tr>\n",
       "  </thead>\n",
       "  <tbody>\n",
       "    <tr>\n",
       "      <th>0</th>\n",
       "      <td>20000</td>\n",
       "      <td>2</td>\n",
       "      <td>2</td>\n",
       "      <td>1</td>\n",
       "      <td>24</td>\n",
       "      <td>2</td>\n",
       "      <td>2</td>\n",
       "      <td>-1</td>\n",
       "      <td>-1</td>\n",
       "      <td>-2</td>\n",
       "      <td>...</td>\n",
       "      <td>0</td>\n",
       "      <td>0</td>\n",
       "      <td>0</td>\n",
       "      <td>0</td>\n",
       "      <td>689</td>\n",
       "      <td>0</td>\n",
       "      <td>0</td>\n",
       "      <td>0</td>\n",
       "      <td>0</td>\n",
       "      <td>1</td>\n",
       "    </tr>\n",
       "    <tr>\n",
       "      <th>1</th>\n",
       "      <td>120000</td>\n",
       "      <td>2</td>\n",
       "      <td>2</td>\n",
       "      <td>2</td>\n",
       "      <td>26</td>\n",
       "      <td>-1</td>\n",
       "      <td>2</td>\n",
       "      <td>0</td>\n",
       "      <td>0</td>\n",
       "      <td>0</td>\n",
       "      <td>...</td>\n",
       "      <td>3272</td>\n",
       "      <td>3455</td>\n",
       "      <td>3261</td>\n",
       "      <td>0</td>\n",
       "      <td>1000</td>\n",
       "      <td>1000</td>\n",
       "      <td>1000</td>\n",
       "      <td>0</td>\n",
       "      <td>2000</td>\n",
       "      <td>1</td>\n",
       "    </tr>\n",
       "    <tr>\n",
       "      <th>2</th>\n",
       "      <td>90000</td>\n",
       "      <td>2</td>\n",
       "      <td>2</td>\n",
       "      <td>2</td>\n",
       "      <td>34</td>\n",
       "      <td>0</td>\n",
       "      <td>0</td>\n",
       "      <td>0</td>\n",
       "      <td>0</td>\n",
       "      <td>0</td>\n",
       "      <td>...</td>\n",
       "      <td>14331</td>\n",
       "      <td>14948</td>\n",
       "      <td>15549</td>\n",
       "      <td>1518</td>\n",
       "      <td>1500</td>\n",
       "      <td>1000</td>\n",
       "      <td>1000</td>\n",
       "      <td>1000</td>\n",
       "      <td>5000</td>\n",
       "      <td>0</td>\n",
       "    </tr>\n",
       "    <tr>\n",
       "      <th>3</th>\n",
       "      <td>50000</td>\n",
       "      <td>2</td>\n",
       "      <td>2</td>\n",
       "      <td>1</td>\n",
       "      <td>37</td>\n",
       "      <td>0</td>\n",
       "      <td>0</td>\n",
       "      <td>0</td>\n",
       "      <td>0</td>\n",
       "      <td>0</td>\n",
       "      <td>...</td>\n",
       "      <td>28314</td>\n",
       "      <td>28959</td>\n",
       "      <td>29547</td>\n",
       "      <td>2000</td>\n",
       "      <td>2019</td>\n",
       "      <td>1200</td>\n",
       "      <td>1100</td>\n",
       "      <td>1069</td>\n",
       "      <td>1000</td>\n",
       "      <td>0</td>\n",
       "    </tr>\n",
       "    <tr>\n",
       "      <th>4</th>\n",
       "      <td>50000</td>\n",
       "      <td>1</td>\n",
       "      <td>2</td>\n",
       "      <td>1</td>\n",
       "      <td>57</td>\n",
       "      <td>-1</td>\n",
       "      <td>0</td>\n",
       "      <td>-1</td>\n",
       "      <td>0</td>\n",
       "      <td>0</td>\n",
       "      <td>...</td>\n",
       "      <td>20940</td>\n",
       "      <td>19146</td>\n",
       "      <td>19131</td>\n",
       "      <td>2000</td>\n",
       "      <td>36681</td>\n",
       "      <td>10000</td>\n",
       "      <td>9000</td>\n",
       "      <td>689</td>\n",
       "      <td>679</td>\n",
       "      <td>0</td>\n",
       "    </tr>\n",
       "  </tbody>\n",
       "</table>\n",
       "<p>5 rows × 24 columns</p>\n",
       "</div>"
      ],
      "text/plain": [
       "   LIMIT_BAL  SEX  EDUCATION  MARRIAGE  AGE  PAY_1  PAY_2  PAY_3  PAY_4  \\\n",
       "0      20000    2          2         1   24      2      2     -1     -1   \n",
       "1     120000    2          2         2   26     -1      2      0      0   \n",
       "2      90000    2          2         2   34      0      0      0      0   \n",
       "3      50000    2          2         1   37      0      0      0      0   \n",
       "4      50000    1          2         1   57     -1      0     -1      0   \n",
       "\n",
       "   PAY_5  ...  BILL_AMT4  BILL_AMT5  BILL_AMT6  PAY_AMT1  PAY_AMT2  PAY_AMT3  \\\n",
       "0     -2  ...          0          0          0         0       689         0   \n",
       "1      0  ...       3272       3455       3261         0      1000      1000   \n",
       "2      0  ...      14331      14948      15549      1518      1500      1000   \n",
       "3      0  ...      28314      28959      29547      2000      2019      1200   \n",
       "4      0  ...      20940      19146      19131      2000     36681     10000   \n",
       "\n",
       "   PAY_AMT4  PAY_AMT5  PAY_AMT6  default  \n",
       "0         0         0         0        1  \n",
       "1      1000         0      2000        1  \n",
       "2      1000      1000      5000        0  \n",
       "3      1100      1069      1000        0  \n",
       "4      9000       689       679        0  \n",
       "\n",
       "[5 rows x 24 columns]"
      ]
     },
     "execution_count": 3,
     "metadata": {},
     "output_type": "execute_result"
    }
   ],
   "source": [
    "dataset.head()"
   ]
  },
  {
   "cell_type": "code",
   "execution_count": 4,
   "id": "f93f3c6d",
   "metadata": {},
   "outputs": [],
   "source": [
    "train_inds = np.random.choice(dataset.shape[0], 10000, replace=False)\n",
    "df_train = dataset.iloc[train_inds]\n",
    "\n",
    "X_train = df_train.drop(columns='default')\n",
    "y_train = df_train['default']"
   ]
  },
  {
   "cell_type": "code",
   "execution_count": 5,
   "id": "f4bedc49",
   "metadata": {},
   "outputs": [
    {
     "data": {
      "text/plain": [
       "((10000, 23), (10000,))"
      ]
     },
     "execution_count": 5,
     "metadata": {},
     "output_type": "execute_result"
    }
   ],
   "source": [
    "X_train.shape, y_train.shape"
   ]
  },
  {
   "cell_type": "code",
   "execution_count": 6,
   "id": "4fc40743",
   "metadata": {},
   "outputs": [
    {
     "data": {
      "text/plain": [
       "RandomForestClassifier()"
      ]
     },
     "execution_count": 6,
     "metadata": {},
     "output_type": "execute_result"
    }
   ],
   "source": [
    "clf = RandomForestClassifier()\n",
    "clf.fit(X_train, y_train)"
   ]
  },
  {
   "cell_type": "code",
   "execution_count": 7,
   "id": "274ce628",
   "metadata": {},
   "outputs": [
    {
     "data": {
      "text/plain": [
       "array([0, 1, 2, 3, 4, 5, 6])"
      ]
     },
     "execution_count": 7,
     "metadata": {},
     "output_type": "execute_result"
    }
   ],
   "source": [
    "np.unique(dataset.EDUCATION)"
   ]
  },
  {
   "cell_type": "code",
   "execution_count": 9,
   "id": "2b155eca",
   "metadata": {},
   "outputs": [
    {
     "data": {
      "text/plain": [
       "((5773, 23), (2715, 23))"
      ]
     },
     "execution_count": 9,
     "metadata": {},
     "output_type": "execute_result"
    }
   ],
   "source": [
    "df_test = dataset[~dataset.index.isin(train_inds)]\n",
    "df1 = df_test[(df_test.EDUCATION <= 1) & (df_test.default == 0)]\n",
    "df2 = df_test[(df_test.EDUCATION >= 3) & (df_test.default == 0)]\n",
    "X1 = df1.drop(columns='default')\n",
    "X2 = df2.drop(columns='default')\n",
    "X1.shape, X2.shape"
   ]
  },
  {
   "cell_type": "code",
   "execution_count": 10,
   "id": "d1fe0069",
   "metadata": {},
   "outputs": [],
   "source": [
    "y1 = clf.predict(X1)\n",
    "y2 = clf.predict(X2)"
   ]
  },
  {
   "cell_type": "code",
   "execution_count": 11,
   "id": "2b29a3ce",
   "metadata": {},
   "outputs": [
    {
     "name": "stdout",
     "output_type": "stream",
     "text": [
      "0.0394941971245453 0.0721915285451197\n"
     ]
    }
   ],
   "source": [
    "print(np.mean(y1), np.mean(y2))"
   ]
  },
  {
   "cell_type": "code",
   "execution_count": 41,
   "id": "d3dc995d",
   "metadata": {},
   "outputs": [],
   "source": [
    "# Run experiments, save results \n",
    "\n",
    "alphas = np.linspace(0.005, 0.1, 20)\n",
    "iters = 20 \n",
    "\n",
    "betting_results, _ = betting_experiment(y1, y2, alphas, iters)\n",
    "save_results('betting', betting_results)\n",
    "perm_500_results = seq_perm_test_experiment(y1, y2, alphas, iters, k=500, bonferroni=True)\n",
    "save_results('perm_500', perm_500_results)\n",
    "perm_250_results = seq_perm_test_experiment(y1, y2, alphas, iters, k=250, bonferroni=True)\n",
    "save_results('perm_250', perm_250_results)\n",
    "perm_1000_results = seq_perm_test_experiment(y1, y2, alphas, iters, k=1000, bonferroni=True)\n",
    "save_results('perm_1000', perm_1000_results)\n",
    "# perm_1500_results = seq_perm_test_experiment(y1, y2, alphas, iters, k=1500, bonferroni=True)\n",
    "# save_results('perm_1500', perm_1500_results)"
   ]
  },
  {
   "cell_type": "code",
   "execution_count": 43,
   "id": "190b0650",
   "metadata": {},
   "outputs": [
    {
     "name": "stdout",
     "output_type": "stream",
     "text": [
      "data/betting-2.p\n",
      "data/betting-0.0.p\n",
      "data/betting-1.p\n",
      "data/betting-3.p\n",
      "data/perm_250-0.p\n",
      "data/perm_250-3.p\n",
      "data/perm_250-2.p\n",
      "data/perm_250-1.p\n",
      "data/perm_500-1.p\n",
      "data/perm_500-2.p\n",
      "data/perm_500-3.p\n",
      "data/perm_500-0.p\n",
      "data/perm_1000-0.p\n",
      "data/perm_1000-3.p\n",
      "data/perm_1000-2.p\n",
      "data/perm_1000-1.p\n",
      "data/perm_1500-3.p\n",
      "data/perm_1500-0.p\n",
      "data/perm_1500-1.p\n",
      "data/perm_1500-2.p\n"
     ]
    }
   ],
   "source": [
    "# Reload if you've run the above experiment multiple times and have saved values \n",
    "\n",
    "betting_results = load_results('betting')\n",
    "perm_250_results = load_results('perm_250')\n",
    "perm_500_results = load_results('perm_500')\n",
    "perm_1000_results = load_results('perm_1000')\n",
    "# perm_1500_results = load_results('perm_1500')"
   ]
  },
  {
   "cell_type": "code",
   "execution_count": 96,
   "id": "d5c597e9",
   "metadata": {},
   "outputs": [
    {
     "data": {
      "image/png": "[encoded data removed]",
      "text/plain": [
       "<Figure size 432x288 with 1 Axes>"
      ]
     },
     "metadata": {
      "needs_background": "light"
     },
     "output_type": "display_data"
    }
   ],
   "source": [
    "mpl.rcParams['font.size'] = 14\n",
    "cm = plt.get_cmap('viridis') \n",
    "cmap = [cm(i) for i in np.linspace(0,1,5)]\n",
    "\n",
    "\n",
    "plt_mean_std(plt, betting_results, alphas, 'Betting', color='red', plot_std=False, ls='--', lw=2)\n",
    "plt_mean_std(plt, perm_250_results, alphas, 'Perm. Test (M2), $k=250$', color=cmap[0], plot_std=False)\n",
    "plt_mean_std(plt, perm_500_results, alphas, 'Perm Test (M2), $k=500$', color=cmap[1], plot_std=False)\n",
    "plt_mean_std(plt, perm_1000_results, alphas, 'Perm. Test (M2), $k=1000$', color=cmap[2], plot_std=False)\n",
    "# plt_mean_std(plt, perm_1500_results, alphas, 'Perm. Test, $k=1500$', color=cmap[3], plot_std=True)\n",
    "\n",
    "\n",
    "plt.legend(fontsize=12)\n",
    "plt.xlabel('$\\\\alpha$')\n",
    "plt.ylabel('Stopping time $\\\\tau$')\n",
    "plt.title('Stopping time under alternative', fontsize=14)\n",
    "plt.savefig('plots/credit_loan.png', dpi=300, bbox_inches='tight')"
   ]
  },
  {
   "cell_type": "markdown",
   "id": "e73d29d5",
   "metadata": {},
   "source": [
    "# Null"
   ]
  },
  {
   "cell_type": "code",
   "execution_count": 42,
   "id": "da7fcd26",
   "metadata": {},
   "outputs": [
    {
     "data": {
      "text/plain": [
       "(0.0394941971245453, 0.0721915285451197)"
      ]
     },
     "execution_count": 42,
     "metadata": {},
     "output_type": "execute_result"
    }
   ],
   "source": [
    "np.mean(y1), np.mean(y2)"
   ]
  },
  {
   "cell_type": "code",
   "execution_count": 48,
   "id": "9624cbee",
   "metadata": {},
   "outputs": [
    {
     "data": {
      "text/plain": [
       "(0.07219152854511969, 0.0721915285451197)"
      ]
     },
     "execution_count": 48,
     "metadata": {},
     "output_type": "execute_result"
    }
   ],
   "source": [
    "z1 = y1 + np.mean(y2) - np.mean(y1)\n",
    "z2 = y2 \n",
    "np.mean(z1), np.mean(z2)"
   ]
  },
  {
   "cell_type": "code",
   "execution_count": 99,
   "id": "f82f683b",
   "metadata": {},
   "outputs": [],
   "source": [
    "iters = 20\n",
    "\n",
    "_, betting_rejects = betting_experiment(z1, z2, alphas, iters)\n",
    "save_results('betting_rejects_loan', betting_rejects)\n",
    "_, perm_250_rejects = seq_perm_test_experiment(z1, z2, alphas, iters, k=250, bonferroni=False)\n",
    "save_results('perm_250_rejects_loan', perm_250_rejects)\n",
    "_, perm_500_rejects = seq_perm_test_experiment(z1, z2, alphas, iters, k=500, bonferroni=False)\n",
    "save_results('perm_500_rejects_loan', perm_500_rejects)\n",
    "_, perm_1000_rejects = seq_perm_test_experiment(z1, z2, alphas, iters, k=1000, bonferroni=False)\n",
    "save_results('perm_1000_rejects_loan', perm_1000_rejects)"
   ]
  },
  {
   "cell_type": "code",
   "execution_count": 91,
   "id": "998d4641",
   "metadata": {},
   "outputs": [],
   "source": [
    "# Reload if you've run the above experiment multiple times and have saved values \n",
    "\n",
    "betting_rejects = load_results('betting_rejects_loan')\n",
    "perm_250_rejects = load_results('perm_250_rejects_loan')\n",
    "perm_500_rejects = load_results('perm_500_rejects_loan')\n",
    "perm_1000_rejects = load_results('perm_1000_rejects_loan')"
   ]
  },
  {
   "cell_type": "code",
   "execution_count": 98,
   "id": "12f11293",
   "metadata": {},
   "outputs": [
    {
     "data": {
      "image/png": "[encoded data removed]",
      "text/plain": [
       "<Figure size 432x288 with 1 Axes>"
      ]
     },
     "metadata": {
      "needs_background": "light"
     },
     "output_type": "display_data"
    }
   ],
   "source": [
    "# mean = np.mean(betting_rejects, axis=0)\n",
    "# plt.plot(alphas, mean)\n",
    "\n",
    "plt_mean_std(plt, betting_rejects, alphas, 'Betting', color='red', ls='--', plot_std=False)\n",
    "plt_mean_std(plt, perm_250_rejects, alphas, 'Perm. Test (M1), $k=250$', color=cmap[0], plot_std=False)\n",
    "plt_mean_std(plt, perm_500_rejects, alphas, 'Perm. Test (M1), $k=500$', color=cmap[1], plot_std=False)\n",
    "plt_mean_std(plt, perm_1000_rejects, alphas, 'Perm. Test (M1), $k=1000$', color=cmap[2], plot_std=False)\n",
    "plt.plot([0, 0.1], [0, 0.1], color='k', lw=2, label='Desired FPR')\n",
    "plt.xlabel('$\\\\alpha$')\n",
    "plt.ylabel('False Positive Rate (FPR)')\n",
    "plt.title('Type-I error under the null', fontsize=14)\n",
    "plt.legend(fontsize=12, loc='upper left')\n",
    "plt.savefig('plots/loan_fpr.png', dpi=300, bbox_inches='tight')"
   ]
  },
  {
   "cell_type": "markdown",
   "id": "6f038daf",
   "metadata": {},
   "source": [
    "# Distribution shift "
   ]
  },
  {
   "cell_type": "code",
   "execution_count": 101,
   "id": "200b2e5f",
   "metadata": {},
   "outputs": [
    {
     "name": "stderr",
     "output_type": "stream",
     "text": [
      "/Users/benchugg/opt/anaconda3/envs/playground/lib/python3.9/site-packages/sklearn/linear_model/_logistic.py:814: ConvergenceWarning: lbfgs failed to converge (status=1):\n",
      "STOP: TOTAL NO. of ITERATIONS REACHED LIMIT.\n",
      "\n",
      "Increase the number of iterations (max_iter) or scale the data as shown in:\n",
      "    https://scikit-learn.org/stable/modules/preprocessing.html\n",
      "Please also refer to the documentation for alternative solver options:\n",
      "    https://scikit-learn.org/stable/modules/linear_model.html#logistic-regression\n",
      "  n_iter_i = _check_optimize_result(\n"
     ]
    }
   ],
   "source": [
    "# Switch to another model halfway through \n",
    "lr = LogisticRegression()\n",
    "lr.fit(X_train, y_train)\n",
    "y1_lr = lr.predict(X1)\n",
    "y2_lr = lr.predict(X2)\n"
   ]
  },
  {
   "cell_type": "code",
   "execution_count": 104,
   "id": "463bdabe",
   "metadata": {},
   "outputs": [],
   "source": [
    "pipe = make_pipeline(StandardScaler(), LogisticRegression())\n",
    "pipe.fit(X_train, y_train)  # apply scaling on training data\n",
    "y1_lr = pipe.predict(X1)\n",
    "y2_lr = pipe.predict(X2)"
   ]
  },
  {
   "cell_type": "code",
   "execution_count": 105,
   "id": "d28cbd4e",
   "metadata": {},
   "outputs": [
    {
     "data": {
      "text/plain": [
       "(0.015070154165944916, 0.03572744014732965)"
      ]
     },
     "execution_count": 105,
     "metadata": {},
     "output_type": "execute_result"
    }
   ],
   "source": [
    "np.mean(y1_lr), np.mean(y2_lr)"
   ]
  },
  {
   "cell_type": "code",
   "execution_count": 108,
   "id": "083751b7",
   "metadata": {},
   "outputs": [],
   "source": [
    "shift_time = 400\n",
    "seq1 = np.concatenate((z1[:shift_time], y1_lr[shift_time:]))\n",
    "seq2 = np.concatenate((z2[:shift_time], y2_lr[shift_time:]))"
   ]
  },
  {
   "cell_type": "code",
   "execution_count": 109,
   "id": "45a62b72",
   "metadata": {},
   "outputs": [],
   "source": [
    "iters = 10 \n",
    "\n",
    "betting_shift, _ = betting_experiment(seq1, seq2, alphas, iters, shift_time=shift_time)"
   ]
  },
  {
   "cell_type": "code",
   "execution_count": 110,
   "id": "128a79e0",
   "metadata": {},
   "outputs": [
    {
     "data": {
      "image/png": "[encoded data removed]",
      "text/plain": [
       "<Figure size 432x288 with 1 Axes>"
      ]
     },
     "metadata": {
      "needs_background": "light"
     },
     "output_type": "display_data"
    }
   ],
   "source": [
    "plt_mean_std(plt, betting_shift, alphas, 'Betting', color='red', ls='--', plot_std=False)"
   ]
  }
 ],
 "metadata": {
  "kernelspec": {
   "display_name": "Python 3 (ipykernel)",
   "language": "python",
   "name": "python3"
  },
  "language_info": {
   "codemirror_mode": {
    "name": "ipython",
    "version": 3
   },
   "file_extension": ".py",
   "mimetype": "text/x-python",
   "name": "python",
   "nbconvert_exporter": "python",
   "pygments_lexer": "ipython3",
   "version": "3.9.12"
  }
 },
 "nbformat": 4,
 "nbformat_minor": 5
}
