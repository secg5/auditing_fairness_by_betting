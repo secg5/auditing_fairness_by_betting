{
 "cells": [
  {
   "cell_type": "code",
   "execution_count": 76,
   "id": "ab25b454",
   "metadata": {},
   "outputs": [],
   "source": [
    "import numpy as np \n",
    "import pandas as pd \n",
    "import matplotlib.pyplot as plt\n",
    "from sklearn.ensemble import RandomForestClassifier\n",
    "from scipy.stats import permutation_test"
   ]
  },
  {
   "cell_type": "code",
   "execution_count": 86,
   "id": "50b1e268",
   "metadata": {},
   "outputs": [],
   "source": [
    "def test_by_betting(seq1, seq2, alpha=0.05): \n",
    "    # Construct wealth process from sequence X using ONS \n",
    "    \n",
    "    wealth = 1\n",
    "    wealth_hist = [1] \n",
    "    const = 2 / (2 - np.log(3))\n",
    "    lambd = 0 \n",
    "    zt2 = 0 \n",
    "    for t in range(1,min(len(seq1), len(seq2))): \n",
    "                \n",
    "        St = 1 - lambd*(seq1[t] - seq2[t])\n",
    "        wealth = wealth * St \n",
    "        wealth_hist.append(wealth)\n",
    "        if wealth > 1/alpha: \n",
    "            #print(f\"Reject at time {t}\")\n",
    "            return wealth_hist, 'reject'\n",
    "        \n",
    "        # Update lambda via ONS  \n",
    "        g = seq1[t] - seq2[t]\n",
    "        z = g / (1 - lambd*g)\n",
    "        zt2 += z**2\n",
    "        lambd = max(min(lambd - const*z/(1 + zt2), 1/2), -1/2)\n",
    "        \n",
    "    U = np.random.uniform()\n",
    "    if wealth > U/alpha: \n",
    "        return wealth_hist, 'reject'\n",
    "    \n",
    "    return wealth_hist, 'sustain'\n",
    "\n",
    "def betting_experiment(seq1, seq2, alphas, n_iters=10): \n",
    "\n",
    "    results = []\n",
    "    for _ in range(n_iters): \n",
    "        np.random.shuffle(seq1)\n",
    "        np.random.shuffle(seq2)\n",
    "        taus = []\n",
    "        for alpha in alphas: \n",
    "            wealth, _ = test_by_betting(seq1, seq2, alpha=alpha)\n",
    "            taus.append(len(wealth))\n",
    "        results.append(taus)\n",
    "        \n",
    "    return results\n",
    "            \n",
    "           "
   ]
  },
  {
   "cell_type": "code",
   "execution_count": 3,
   "id": "2fddbcfd",
   "metadata": {},
   "outputs": [
    {
     "data": {
      "text/plain": [
       "(30000, 24)"
      ]
     },
     "execution_count": 3,
     "metadata": {},
     "output_type": "execute_result"
    }
   ],
   "source": [
    "data_url = \"http://archive.ics.uci.edu/ml/machine-learning-databases/00350/default%20of%20credit%20card%20clients.xls\"\n",
    "dataset = (\n",
    "    pd.read_excel(io=data_url, header=1)\n",
    "    .drop(columns=[\"ID\"])\n",
    "    .rename(\n",
    "        columns={\"PAY_0\": \"PAY_1\", \"default payment next month\": \"default\"}\n",
    "    )\n",
    ")\n",
    "\n",
    "dataset.shape"
   ]
  },
  {
   "cell_type": "code",
   "execution_count": 4,
   "id": "1745afa8",
   "metadata": {},
   "outputs": [
    {
     "data": {
      "text/html": [
       "<div>\n",
       "<style scoped>\n",
       "    .dataframe tbody tr th:only-of-type {\n",
       "        vertical-align: middle;\n",
       "    }\n",
       "\n",
       "    .dataframe tbody tr th {\n",
       "        vertical-align: top;\n",
       "    }\n",
       "\n",
       "    .dataframe thead th {\n",
       "        text-align: right;\n",
       "    }\n",
       "</style>\n",
       "<table border=\"1\" class=\"dataframe\">\n",
       "  <thead>\n",
       "    <tr style=\"text-align: right;\">\n",
       "      <th></th>\n",
       "      <th>LIMIT_BAL</th>\n",
       "      <th>SEX</th>\n",
       "      <th>EDUCATION</th>\n",
       "      <th>MARRIAGE</th>\n",
       "      <th>AGE</th>\n",
       "      <th>PAY_1</th>\n",
       "      <th>PAY_2</th>\n",
       "      <th>PAY_3</th>\n",
       "      <th>PAY_4</th>\n",
       "      <th>PAY_5</th>\n",
       "      <th>...</th>\n",
       "      <th>BILL_AMT4</th>\n",
       "      <th>BILL_AMT5</th>\n",
       "      <th>BILL_AMT6</th>\n",
       "      <th>PAY_AMT1</th>\n",
       "      <th>PAY_AMT2</th>\n",
       "      <th>PAY_AMT3</th>\n",
       "      <th>PAY_AMT4</th>\n",
       "      <th>PAY_AMT5</th>\n",
       "      <th>PAY_AMT6</th>\n",
       "      <th>default</th>\n",
       "    </tr>\n",
       "  </thead>\n",
       "  <tbody>\n",
       "    <tr>\n",
       "      <th>0</th>\n",
       "      <td>20000</td>\n",
       "      <td>2</td>\n",
       "      <td>2</td>\n",
       "      <td>1</td>\n",
       "      <td>24</td>\n",
       "      <td>2</td>\n",
       "      <td>2</td>\n",
       "      <td>-1</td>\n",
       "      <td>-1</td>\n",
       "      <td>-2</td>\n",
       "      <td>...</td>\n",
       "      <td>0</td>\n",
       "      <td>0</td>\n",
       "      <td>0</td>\n",
       "      <td>0</td>\n",
       "      <td>689</td>\n",
       "      <td>0</td>\n",
       "      <td>0</td>\n",
       "      <td>0</td>\n",
       "      <td>0</td>\n",
       "      <td>1</td>\n",
       "    </tr>\n",
       "    <tr>\n",
       "      <th>1</th>\n",
       "      <td>120000</td>\n",
       "      <td>2</td>\n",
       "      <td>2</td>\n",
       "      <td>2</td>\n",
       "      <td>26</td>\n",
       "      <td>-1</td>\n",
       "      <td>2</td>\n",
       "      <td>0</td>\n",
       "      <td>0</td>\n",
       "      <td>0</td>\n",
       "      <td>...</td>\n",
       "      <td>3272</td>\n",
       "      <td>3455</td>\n",
       "      <td>3261</td>\n",
       "      <td>0</td>\n",
       "      <td>1000</td>\n",
       "      <td>1000</td>\n",
       "      <td>1000</td>\n",
       "      <td>0</td>\n",
       "      <td>2000</td>\n",
       "      <td>1</td>\n",
       "    </tr>\n",
       "    <tr>\n",
       "      <th>2</th>\n",
       "      <td>90000</td>\n",
       "      <td>2</td>\n",
       "      <td>2</td>\n",
       "      <td>2</td>\n",
       "      <td>34</td>\n",
       "      <td>0</td>\n",
       "      <td>0</td>\n",
       "      <td>0</td>\n",
       "      <td>0</td>\n",
       "      <td>0</td>\n",
       "      <td>...</td>\n",
       "      <td>14331</td>\n",
       "      <td>14948</td>\n",
       "      <td>15549</td>\n",
       "      <td>1518</td>\n",
       "      <td>1500</td>\n",
       "      <td>1000</td>\n",
       "      <td>1000</td>\n",
       "      <td>1000</td>\n",
       "      <td>5000</td>\n",
       "      <td>0</td>\n",
       "    </tr>\n",
       "    <tr>\n",
       "      <th>3</th>\n",
       "      <td>50000</td>\n",
       "      <td>2</td>\n",
       "      <td>2</td>\n",
       "      <td>1</td>\n",
       "      <td>37</td>\n",
       "      <td>0</td>\n",
       "      <td>0</td>\n",
       "      <td>0</td>\n",
       "      <td>0</td>\n",
       "      <td>0</td>\n",
       "      <td>...</td>\n",
       "      <td>28314</td>\n",
       "      <td>28959</td>\n",
       "      <td>29547</td>\n",
       "      <td>2000</td>\n",
       "      <td>2019</td>\n",
       "      <td>1200</td>\n",
       "      <td>1100</td>\n",
       "      <td>1069</td>\n",
       "      <td>1000</td>\n",
       "      <td>0</td>\n",
       "    </tr>\n",
       "    <tr>\n",
       "      <th>4</th>\n",
       "      <td>50000</td>\n",
       "      <td>1</td>\n",
       "      <td>2</td>\n",
       "      <td>1</td>\n",
       "      <td>57</td>\n",
       "      <td>-1</td>\n",
       "      <td>0</td>\n",
       "      <td>-1</td>\n",
       "      <td>0</td>\n",
       "      <td>0</td>\n",
       "      <td>...</td>\n",
       "      <td>20940</td>\n",
       "      <td>19146</td>\n",
       "      <td>19131</td>\n",
       "      <td>2000</td>\n",
       "      <td>36681</td>\n",
       "      <td>10000</td>\n",
       "      <td>9000</td>\n",
       "      <td>689</td>\n",
       "      <td>679</td>\n",
       "      <td>0</td>\n",
       "    </tr>\n",
       "  </tbody>\n",
       "</table>\n",
       "<p>5 rows × 24 columns</p>\n",
       "</div>"
      ],
      "text/plain": [
       "   LIMIT_BAL  SEX  EDUCATION  MARRIAGE  AGE  PAY_1  PAY_2  PAY_3  PAY_4  \\\n",
       "0      20000    2          2         1   24      2      2     -1     -1   \n",
       "1     120000    2          2         2   26     -1      2      0      0   \n",
       "2      90000    2          2         2   34      0      0      0      0   \n",
       "3      50000    2          2         1   37      0      0      0      0   \n",
       "4      50000    1          2         1   57     -1      0     -1      0   \n",
       "\n",
       "   PAY_5  ...  BILL_AMT4  BILL_AMT5  BILL_AMT6  PAY_AMT1  PAY_AMT2  PAY_AMT3  \\\n",
       "0     -2  ...          0          0          0         0       689         0   \n",
       "1      0  ...       3272       3455       3261         0      1000      1000   \n",
       "2      0  ...      14331      14948      15549      1518      1500      1000   \n",
       "3      0  ...      28314      28959      29547      2000      2019      1200   \n",
       "4      0  ...      20940      19146      19131      2000     36681     10000   \n",
       "\n",
       "   PAY_AMT4  PAY_AMT5  PAY_AMT6  default  \n",
       "0         0         0         0        1  \n",
       "1      1000         0      2000        1  \n",
       "2      1000      1000      5000        0  \n",
       "3      1100      1069      1000        0  \n",
       "4      9000       689       679        0  \n",
       "\n",
       "[5 rows x 24 columns]"
      ]
     },
     "execution_count": 4,
     "metadata": {},
     "output_type": "execute_result"
    }
   ],
   "source": [
    "dataset.head()"
   ]
  },
  {
   "cell_type": "code",
   "execution_count": 5,
   "id": "f93f3c6d",
   "metadata": {},
   "outputs": [],
   "source": [
    "train_inds = np.random.choice(dataset.shape[0], 10000, replace=False)\n",
    "df_train = dataset.iloc[train_inds]\n",
    "\n",
    "X_train = df_train.drop(columns='default')\n",
    "y_train = df_train['default']"
   ]
  },
  {
   "cell_type": "code",
   "execution_count": 6,
   "id": "f4bedc49",
   "metadata": {},
   "outputs": [
    {
     "data": {
      "text/plain": [
       "((10000, 23), (10000,))"
      ]
     },
     "execution_count": 6,
     "metadata": {},
     "output_type": "execute_result"
    }
   ],
   "source": [
    "X_train.shape, y_train.shape"
   ]
  },
  {
   "cell_type": "code",
   "execution_count": 7,
   "id": "4fc40743",
   "metadata": {},
   "outputs": [
    {
     "data": {
      "text/plain": [
       "RandomForestClassifier()"
      ]
     },
     "execution_count": 7,
     "metadata": {},
     "output_type": "execute_result"
    }
   ],
   "source": [
    "clf = RandomForestClassifier()\n",
    "clf.fit(X_train, y_train)"
   ]
  },
  {
   "cell_type": "code",
   "execution_count": 38,
   "id": "90e82e84",
   "metadata": {},
   "outputs": [
    {
     "data": {
      "text/plain": [
       "array([0, 1, 2, 3, 4, 5, 6])"
      ]
     },
     "execution_count": 38,
     "metadata": {},
     "output_type": "execute_result"
    }
   ],
   "source": [
    "np.unique(dataset.EDUCATION)"
   ]
  },
  {
   "cell_type": "code",
   "execution_count": 8,
   "id": "9fb85e1d",
   "metadata": {},
   "outputs": [],
   "source": [
    "df_test = dataset[~dataset.index.isin(train_inds)]"
   ]
  },
  {
   "cell_type": "code",
   "execution_count": 45,
   "id": "2b155eca",
   "metadata": {},
   "outputs": [
    {
     "data": {
      "text/plain": [
       "((5759, 23), (2697, 23))"
      ]
     },
     "execution_count": 45,
     "metadata": {},
     "output_type": "execute_result"
    }
   ],
   "source": [
    "df1 = df_test[(df_test.EDUCATION <= 1) & (df_test.default == 0)]\n",
    "df2 = df_test[(df_test.EDUCATION >= 3) & (df_test.default == 0)]\n",
    "X1 = df1.drop(columns='default')\n",
    "X2 = df2.drop(columns='default')\n",
    "X1.shape, X2.shape"
   ]
  },
  {
   "cell_type": "code",
   "execution_count": 66,
   "id": "d1fe0069",
   "metadata": {},
   "outputs": [],
   "source": [
    "y1 = clf.predict(X1)\n",
    "y2 = clf.predict(X2)"
   ]
  },
  {
   "cell_type": "code",
   "execution_count": 53,
   "id": "2b29a3ce",
   "metadata": {},
   "outputs": [
    {
     "name": "stdout",
     "output_type": "stream",
     "text": [
      "0.038201076575794406 0.07007786429365963\n",
      "0.041156840934371525\n"
     ]
    }
   ],
   "source": [
    "print(np.mean(y1), np.mean(y2))\n",
    "print(np.mean(y1[:len(y2)]))"
   ]
  },
  {
   "cell_type": "code",
   "execution_count": 87,
   "id": "611d69fa",
   "metadata": {},
   "outputs": [],
   "source": [
    "def test_stat(x, y, axis):\n",
    "    return np.mean(x, axis=axis) - np.mean(y, axis=axis)\n",
    "\n",
    "def perm_test(seq1, seq2, p):    \n",
    "    \n",
    "    # because our statistic is vectorized, we pass `vectorized=True`\n",
    "    # `n_resamples=np.inf` indicates that an exact test is to be performed\n",
    "    res = permutation_test((seq1, seq2), test_stat, vectorized=True,\n",
    "                           n_resamples=2000, alternative='two-sided')\n",
    "    # print(res.pvalue)\n",
    "    if res.pvalue <= p: \n",
    "        return True \n",
    "    return False\n",
    "    \n",
    "def seq_perm_test(seq1, seq2, p=0.05, k=100, bonferroni=False): \n",
    "    \n",
    "    l = min(len(seq1), len(seq2))\n",
    "    for i in range(int(l/k)): \n",
    "        pi = p / 2**(i+1) if bonferroni else p\n",
    "        if perm_test(seq1[i*k:k*(i+1)], seq2[i*k:k*(i+1)], pi): \n",
    "            # print('Reject')\n",
    "            return k*(i+1), 'reject'\n",
    "    return l, 'sustain'\n",
    "\n",
    "def seq_perm_test_experiment(seq1, seq2, alphas, iters=10, k=100, bonferroni=False): \n",
    "    \n",
    "    results = []\n",
    "    for _ in range(iters): \n",
    "        taus = []\n",
    "        np.random.shuffle(seq1)\n",
    "        np.random.shuffle(seq2)\n",
    "        for alpha in alphas: \n",
    "            steps, _ = seq_perm_test(seq1, seq2, p=alpha, k=500, bonferroni=bonferroni)\n",
    "            taus.append(steps)\n",
    "        results.append(taus)\n",
    "        \n",
    "    return results\n",
    "    "
   ]
  },
  {
   "cell_type": "code",
   "execution_count": 72,
   "id": "974e6aea",
   "metadata": {},
   "outputs": [
    {
     "data": {
      "text/plain": [
       "array([0.005, 0.01 , 0.015, 0.02 , 0.025, 0.03 , 0.035, 0.04 , 0.045,\n",
       "       0.05 , 0.055, 0.06 , 0.065, 0.07 , 0.075, 0.08 , 0.085, 0.09 ,\n",
       "       0.095, 0.1  ])"
      ]
     },
     "execution_count": 72,
     "metadata": {},
     "output_type": "execute_result"
    }
   ],
   "source": [
    "np.linspace(0.005, 0.1, 20)"
   ]
  },
  {
   "cell_type": "code",
   "execution_count": 78,
   "id": "0118f2a4",
   "metadata": {},
   "outputs": [],
   "source": [
    "# alphas = [0.005, 0.01, 0.02, 0.05, 0.075, 0.1, 0.125, 0.15]\n",
    "alphas = np.linspace(0.005, 0.1, 20)\n",
    "iters = 10 \n",
    "\n",
    "wealth_experiment()\n",
    "\n",
    "\n",
    "\n",
    "for _ in range(iters)\n",
    "    wealth_tau = [] \n",
    "    perm_tau_500 = []\n",
    "    perm_tau_250 = []\n",
    "    np.random.shuffle(y1)\n",
    "    np.random.shuffle(y2)\n",
    "    for alpha in alphas:\n",
    "        wealth_tau, _ = test_by_betting(y1, y2, alpha=alpha)\n",
    "        tau_500, _ = seq_perm_test(y1, y2, p=alpha, k=500, bonferroni=True)\n",
    "        tau_250, _ = seq_perm_test(y1, y2, p=alpha, k=250, bonferroni=True)\n",
    "        wealth_tau.append(len(wealth))\n",
    "        perm_tau_500.append(tau_500)\n",
    "        perm_tau_250.append(tau_250)\n",
    "        \n",
    "    \n"
   ]
  },
  {
   "cell_type": "code",
   "execution_count": 82,
   "id": "e0249d73",
   "metadata": {},
   "outputs": [
    {
     "data": {
      "text/plain": [
       "Text(0, 0.5, '$\\\\tau$')"
      ]
     },
     "execution_count": 82,
     "metadata": {},
     "output_type": "execute_result"
    },
    {
     "data": {
      "image/png": "[encoded data removed]",
      "text/plain": [
       "<Figure size 432x288 with 1 Axes>"
      ]
     },
     "metadata": {
      "needs_background": "light"
     },
     "output_type": "display_data"
    }
   ],
   "source": [
    "plt.plot(alphas, wealth_step, label='Betting')\n",
    "plt.plot(alphas, perm_step, label='Permutation test')\n",
    "plt.legend()\n",
    "plt.xlabel('$\\\\alpha$')\n",
    "plt.ylabel('$\\\\tau$')"
   ]
  },
  {
   "cell_type": "code",
   "execution_count": 67,
   "id": "4bf65daa",
   "metadata": {},
   "outputs": [
    {
     "name": "stdout",
     "output_type": "stream",
     "text": [
      "5759 sustain\n",
      "5759 sustain\n",
      "5759 sustain\n",
      "5759 sustain\n",
      "5759 sustain\n",
      "5759 sustain\n",
      "5759 sustain\n",
      "5759 sustain\n",
      "5759 sustain\n",
      "5759 sustain\n"
     ]
    }
   ],
   "source": [
    "alphas = [0.005, 0.01, 0.02, 0.05, 0.075, 0.1, 0.125, 0.15, 0.175, 0.2]\n",
    "for alpha in alphas:\n",
    "    wealth, seq_res = test_by_betting(y1, y1, alpha=alpha)\n",
    "    print(len(wealth), seq_res)\n",
    "#     step, perm_result = seq_perm_test(y1, y2, p=alpha, k=300, bonferroni=True)\n",
    "#     print('Betting', seq_res, len(wealth), 'Perm', perm_result, step)\n"
   ]
  },
  {
   "cell_type": "code",
   "execution_count": 28,
   "id": "36d12126",
   "metadata": {},
   "outputs": [
    {
     "name": "stdout",
     "output_type": "stream",
     "text": [
      "0.27586206896551724\n"
     ]
    },
    {
     "data": {
      "text/plain": [
       "False"
      ]
     },
     "execution_count": 28,
     "metadata": {},
     "output_type": "execute_result"
    }
   ],
   "source": [
    "# seq_perm_test(y1, y2, p=0.05, k=100)\n",
    "perm_test(y1[:1000], y2[:1000], p=0.05)"
   ]
  }
 ],
 "metadata": {
  "kernelspec": {
   "display_name": "Python 3 (ipykernel)",
   "language": "python",
   "name": "python3"
  },
  "language_info": {
   "codemirror_mode": {
    "name": "ipython",
    "version": 3
   },
   "file_extension": ".py",
   "mimetype": "text/x-python",
   "name": "python",
   "nbconvert_exporter": "python",
   "pygments_lexer": "ipython3",
   "version": "3.9.12"
  }
 },
 "nbformat": 4,
 "nbformat_minor": 5
}
