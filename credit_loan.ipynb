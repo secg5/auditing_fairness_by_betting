{
 "cells": [
  {
   "cell_type": "code",
   "execution_count": null,
   "id": "ab25b454",
   "metadata": {},
   "outputs": [],
   "source": [
    "import numpy as np \n",
    "import pandas as pd \n",
    "import matplotlib.pyplot as plt\n",
    "import pickle\n",
    "import os \n",
    "from sklearn.ensemble import RandomForestClassifier\n",
    "from scipy.stats import permutation_test\n",
    "from methods import * \n",
    "\n",
    "%load_ext autoreload\n",
    "%autoreload 2"
   ]
  },
  {
   "cell_type": "code",
   "execution_count": null,
   "id": "2fddbcfd",
   "metadata": {},
   "outputs": [],
   "source": [
    "data_url = \"http://archive.ics.uci.edu/ml/machine-learning-databases/00350/default%20of%20credit%20card%20clients.xls\"\n",
    "dataset = (\n",
    "    pd.read_excel(io=data_url, header=1)\n",
    "    .drop(columns=[\"ID\"])\n",
    "    .rename(\n",
    "        columns={\"PAY_0\": \"PAY_1\", \"default payment next month\": \"default\"}\n",
    "    )\n",
    ")\n",
    "\n",
    "dataset.shape"
   ]
  },
  {
   "cell_type": "code",
   "execution_count": null,
   "id": "1745afa8",
   "metadata": {},
   "outputs": [],
   "source": [
    "dataset.head()"
   ]
  },
  {
   "cell_type": "code",
   "execution_count": null,
   "id": "f93f3c6d",
   "metadata": {},
   "outputs": [],
   "source": [
    "train_inds = np.random.choice(dataset.shape[0], 10000, replace=False)\n",
    "df_train = dataset.iloc[train_inds]\n",
    "\n",
    "X_train = df_train.drop(columns='default')\n",
    "y_train = df_train['default']"
   ]
  },
  {
   "cell_type": "code",
   "execution_count": null,
   "id": "f4bedc49",
   "metadata": {},
   "outputs": [],
   "source": [
    "X_train.shape, y_train.shape"
   ]
  },
  {
   "cell_type": "code",
   "execution_count": null,
   "id": "4fc40743",
   "metadata": {},
   "outputs": [],
   "source": [
    "clf = RandomForestClassifier()\n",
    "clf.fit(X_train, y_train)"
   ]
  },
  {
   "cell_type": "code",
   "execution_count": null,
   "id": "8c1d0a00",
   "metadata": {},
   "outputs": [],
   "source": [
    "np.unique(dataset.EDUCATION)"
   ]
  },
  {
   "cell_type": "code",
   "execution_count": null,
   "id": "9fb85e1d",
   "metadata": {},
   "outputs": [],
   "source": [
    "df_test = dataset[~dataset.index.isin(train_inds)]"
   ]
  },
  {
   "cell_type": "code",
   "execution_count": null,
   "id": "2b155eca",
   "metadata": {},
   "outputs": [],
   "source": [
    "df1 = df_test[(df_test.EDUCATION <= 1) & (df_test.default == 0)]\n",
    "df2 = df_test[(df_test.EDUCATION >= 3) & (df_test.default == 0)]\n",
    "X1 = df1.drop(columns='default')\n",
    "X2 = df2.drop(columns='default')\n",
    "X1.shape, X2.shape"
   ]
  },
  {
   "cell_type": "code",
   "execution_count": null,
   "id": "d1fe0069",
   "metadata": {},
   "outputs": [],
   "source": [
    "y1 = clf.predict(X1)\n",
    "y2 = clf.predict(X2)"
   ]
  },
  {
   "cell_type": "code",
   "execution_count": null,
   "id": "2b29a3ce",
   "metadata": {},
   "outputs": [],
   "source": [
    "print(np.mean(y1), np.mean(y2))"
   ]
  },
  {
   "cell_type": "code",
   "execution_count": null,
   "id": "cfa88f43",
   "metadata": {},
   "outputs": [],
   "source": [
    "alphas = np.linspace(0.005, 0.1, 20)\n",
    "iters = 20 \n",
    "\n",
    "betting_results = betting_experiment(y1, y2, alphas, iters)\n",
    "save_results('betting', betting_results)\n",
    "perm_500_results = seq_perm_test_experiment(y1, y2, alphas, iters, k=500, bonferroni=True)\n",
    "save_results('perm_500', perm_500_results)\n",
    "perm_250_results = seq_perm_test_experiment(y1, y2, alphas, iters, k=250, bonferroni=True)\n",
    "save_results('perm_250', perm_250_results)\n",
    "perm_1000_results = seq_perm_test_experiment(y1, y2, alphas, iters, k=1000, bonferroni=True)\n",
    "save_results('perm_1000', perm_1000_results)\n",
    "perm_1500_results = seq_perm_test_experiment(y1, y2, alphas, iters, k=1500, bonferroni=True)\n",
    "save_results('perm_1500', perm_1500_results)"
   ]
  },
  {
   "cell_type": "code",
   "execution_count": null,
   "id": "6ce3d380",
   "metadata": {},
   "outputs": [],
   "source": [
    "plt_mean_std(plt, betting_results, alphas, 'Betting', color='navy', plot_std=False)\n",
    "plt_mean_std(plt, perm_500_results, alphas, 'Perm Test, $k=500$', color='green', plot_std=False)\n",
    "plt_mean_std(plt, perm_250_results, alphas, 'Perm. Test, $k=250$', color='yellow', plot_std=False)\n",
    "plt_mean_std(plt, perm_1000_results, alphas, 'Perm. Test, $k=1000$', color='blue', plot_std=False)\n",
    "plt_mean_std(plt, perm_1500_results, alphas, 'Perm. Test, $k=1500$', color='orange', plot_std=False)\n",
    "\n",
    "\n",
    "plt.legend()\n",
    "plt.xlabel('$\\\\alpha$')\n",
    "plt.ylabel('$\\\\tau$')"
   ]
  },
  {
   "cell_type": "markdown",
   "id": "9d931d2e",
   "metadata": {},
   "source": [
    "# Distribution shift "
   ]
  },
  {
   "cell_type": "code",
   "execution_count": null,
   "id": "c2394977",
   "metadata": {},
   "outputs": [],
   "source": []
  }
 ],
 "metadata": {
  "kernelspec": {
   "display_name": "Python 3 (ipykernel)",
   "language": "python",
   "name": "python3"
  },
  "language_info": {
   "codemirror_mode": {
    "name": "ipython",
    "version": 3
   },
   "file_extension": ".py",
   "mimetype": "text/x-python",
   "name": "python",
   "nbconvert_exporter": "python",
   "pygments_lexer": "ipython3",
   "version": "3.9.12"
  }
 },
 "nbformat": 4,
 "nbformat_minor": 5
}
