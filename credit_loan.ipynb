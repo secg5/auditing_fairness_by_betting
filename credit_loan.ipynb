{
 "cells": [
  {
   "cell_type": "code",
   "execution_count": 103,
   "id": "ab25b454",
   "metadata": {},
   "outputs": [
    {
     "name": "stdout",
     "output_type": "stream",
     "text": [
      "The autoreload extension is already loaded. To reload it, use:\n",
      "  %reload_ext autoreload\n"
     ]
    }
   ],
   "source": [
    "import numpy as np \n",
    "import pandas as pd \n",
    "import matplotlib.pyplot as plt\n",
    "import pickle\n",
    "import os \n",
    "from glob import glob\n",
    "import matplotlib as mpl \n",
    "from sklearn.ensemble import RandomForestClassifier\n",
    "from sklearn.linear_model import LogisticRegression\n",
    "from scipy.stats import permutation_test\n",
    "from sklearn.model_selection import train_test_split\n",
    "from sklearn.pipeline import make_pipeline\n",
    "from sklearn.preprocessing import StandardScaler\n",
    "from methods import * \n",
    "\n",
    "%load_ext autoreload\n",
    "%autoreload 2"
   ]
  },
  {
   "cell_type": "code",
   "execution_count": 201,
   "id": "2fddbcfd",
   "metadata": {},
   "outputs": [],
   "source": [
    "data_url = \"http://archive.ics.uci.edu/ml/machine-learning-databases/00350/default%20of%20credit%20card%20clients.xls\"\n",
    "dataset = (\n",
    "    pd.read_excel(io=data_url, header=1)\n",
    "    .drop(columns=[\"ID\"])\n",
    "    .rename(\n",
    "        columns={\"PAY_0\": \"PAY_1\", \"default payment next month\": \"default\"}\n",
    "    )\n",
    ")\n",
    "\n",
    "np.random.seed(42)\n",
    "train_inds = np.random.choice(dataset.shape[0], 10000, replace=False)\n",
    "df_train = dataset.iloc[train_inds]\n",
    "\n",
    "X_train = df_train.drop(columns='default')\n",
    "y_train = df_train['default']"
   ]
  },
  {
   "cell_type": "code",
   "execution_count": 202,
   "id": "1745afa8",
   "metadata": {},
   "outputs": [
    {
     "data": {
      "text/plain": [
       "((5755, 23), (2714, 23))"
      ]
     },
     "execution_count": 202,
     "metadata": {},
     "output_type": "execute_result"
    }
   ],
   "source": [
    "clf = RandomForestClassifier(random_state=42)\n",
    "clf.fit(X_train, y_train)\n",
    "df_test = dataset[~dataset.index.isin(train_inds)]\n",
    "df1 = df_test[(df_test.EDUCATION <= 1) & (df_test.default == 0)]\n",
    "df2 = df_test[(df_test.EDUCATION >= 3) & (df_test.default == 0)]\n",
    "X1 = df1.drop(columns='default')\n",
    "X2 = df2.drop(columns='default')\n",
    "X1.shape, X2.shape"
   ]
  },
  {
   "cell_type": "code",
   "execution_count": 205,
   "id": "d1fe0069",
   "metadata": {},
   "outputs": [
    {
     "name": "stdout",
     "output_type": "stream",
     "text": [
      "0.03770634231103388 0.07184966838614591 0.07184966838614593 0.07184966838614591\n"
     ]
    }
   ],
   "source": [
    "y1 = clf.predict(X1)\n",
    "y2 = clf.predict(X2)\n",
    "\n",
    "z1 = y1 + np.mean(y2) - np.mean(y1)\n",
    "z2 = y2\n",
    "print(np.mean(y1), np.mean(y2), np.mean(z1), np.mean(z2))"
   ]
  },
  {
   "cell_type": "code",
   "execution_count": 209,
   "id": "0b9e8a6b",
   "metadata": {},
   "outputs": [],
   "source": [
    "# Run null and alternative, no Bonferroni correction \n",
    "\n",
    "\n",
    "alphas = np.linspace(0.005, 0.1, 20)\n",
    "iters = 30 \n",
    "\n",
    "\n",
    "# betting_tau, _ = betting_experiment(y1, y2, alphas, iters) # Alternative \n",
    "# _, betting_fdr = betting_experiment(z1, z2, alphas, iters) # Null \n",
    "\n",
    "perm_250_tau, _ = seq_perm_test_experiment(y1, y2, alphas, iters, k=250, bonferroni=False)\n",
    "_, perm_250_fdr = seq_perm_test_experiment(z1, z2, alphas, iters, k=250, bonferroni=False)\n",
    "\n",
    "perm_500_tau, _ = seq_perm_test_experiment(y1, y2, alphas, iters, k=500, bonferroni=False)\n",
    "_, perm_500_fdr = seq_perm_test_experiment(z1, z2, alphas, iters, k=500, bonferroni=False)\n",
    "\n",
    "perm_1000_tau, _ = seq_perm_test_experiment(y1, y2, alphas, iters, k=1000, bonferroni=False)\n",
    "_, perm_1000_fdr = seq_perm_test_experiment(z1, z2, alphas, iters, k=1000, bonferroni=False)\n",
    "\n",
    "\n",
    "# save_results('betting_loan_tau', betting_tau)\n",
    "# save_results('betting_loan_fdr', betting_fdr)\n",
    "save_results('perm_250_loan_tau', perm_250_tau)\n",
    "save_results('perm_250_loan_fdr', perm_250_fdr)\n",
    "save_results('perm_500_loan_tau', perm_500_tau)\n",
    "save_results('perm_500_loan_fdr', perm_500_fdr)\n",
    "save_results('perm_1000_loan_tau', perm_1000_tau)\n",
    "save_results('perm_1000_loan_fdr', perm_1000_fdr)\n",
    "\n"
   ]
  },
  {
   "cell_type": "markdown",
   "id": "41f6412c",
   "metadata": {},
   "source": [
    "# Distribution Shift "
   ]
  },
  {
   "cell_type": "code",
   "execution_count": 211,
   "id": "76acc343",
   "metadata": {},
   "outputs": [],
   "source": [
    "pipe = make_pipeline(StandardScaler(), LogisticRegression(random_state=42))\n",
    "pipe.fit(X_train, y_train)  # apply scaling on training data\n",
    "y1_lr = pipe.predict(X1)\n",
    "y2_lr = pipe.predict(X2)\n",
    "\n",
    "shift_time = 400\n",
    "seq1 = np.concatenate((z1[:shift_time], y1_lr[shift_time:]))\n",
    "seq2 = np.concatenate((z2[:shift_time], y2_lr[shift_time:]))"
   ]
  },
  {
   "cell_type": "code",
   "execution_count": null,
   "id": "46d2cd86",
   "metadata": {},
   "outputs": [],
   "source": [
    "iters = 30 \n",
    "\n",
    "# betting_shift, _ = betting_experiment(seq1, seq2, alphas, iters, shift_time=shift_time)\n",
    "perm_250_shift_tau, _ = seq_perm_test_experiment(seq1, seq2, alphas, iters, k=250, bonferroni=False, shift_time=shift_time)\n",
    "perm_500_shift_tau, _ = seq_perm_test_experiment(seq1, seq2, alphas, iters, k=500, bonferroni=False, shift_time=shift_time)\n",
    "perm_1000_shift_tau, _ = seq_perm_test_experiment(seq1, seq2, alphas, iters, k=1000, bonferroni=False, shift_time=shift_time)\n",
    "\n",
    "\n",
    "# save_results('betting_shift_loan', betting_shift)\n",
    "save_results('perm_250_shift_loan', perm_250_shift)\n",
    "save_results('perm_500_shift_loan', perm_500_shift)\n",
    "save_results('perm_1000_shift_loan', perm_1000_shift)"
   ]
  },
  {
   "cell_type": "code",
   "execution_count": null,
   "id": "4e2ce6f4",
   "metadata": {},
   "outputs": [],
   "source": []
  },
  {
   "cell_type": "code",
   "execution_count": null,
   "id": "8e381dcd",
   "metadata": {},
   "outputs": [],
   "source": []
  },
  {
   "cell_type": "code",
   "execution_count": null,
   "id": "30d18d09",
   "metadata": {},
   "outputs": [],
   "source": []
  },
  {
   "cell_type": "code",
   "execution_count": null,
   "id": "2746286a",
   "metadata": {},
   "outputs": [],
   "source": []
  },
  {
   "cell_type": "code",
   "execution_count": 41,
   "id": "d3dc995d",
   "metadata": {},
   "outputs": [],
   "source": [
    "# Run experiments, save results \n",
    "\n",
    "alphas = np.linspace(0.005, 0.1, 20)\n",
    "iters = 20 \n",
    "\n",
    "betting_results, _ = betting_experiment(y1, y2, alphas, iters)\n",
    "save_results('betting', betting_results)\n",
    "perm_500_results = seq_perm_test_experiment(y1, y2, alphas, iters, k=500, bonferroni=True)\n",
    "save_results('perm_500', perm_500_results)\n",
    "perm_250_results = seq_perm_test_experiment(y1, y2, alphas, iters, k=250, bonferroni=True)\n",
    "save_results('perm_250', perm_250_results)\n",
    "perm_1000_results = seq_perm_test_experiment(y1, y2, alphas, iters, k=1000, bonferroni=True)\n",
    "save_results('perm_1000', perm_1000_results)\n",
    "# perm_1500_results = seq_perm_test_experiment(y1, y2, alphas, iters, k=1500, bonferroni=True)\n",
    "# save_results('perm_1500', perm_1500_results)"
   ]
  },
  {
   "cell_type": "code",
   "execution_count": 43,
   "id": "190b0650",
   "metadata": {},
   "outputs": [
    {
     "name": "stdout",
     "output_type": "stream",
     "text": [
      "data/betting-2.p\n",
      "data/betting-0.0.p\n",
      "data/betting-1.p\n",
      "data/betting-3.p\n",
      "data/perm_250-0.p\n",
      "data/perm_250-3.p\n",
      "data/perm_250-2.p\n",
      "data/perm_250-1.p\n",
      "data/perm_500-1.p\n",
      "data/perm_500-2.p\n",
      "data/perm_500-3.p\n",
      "data/perm_500-0.p\n",
      "data/perm_1000-0.p\n",
      "data/perm_1000-3.p\n",
      "data/perm_1000-2.p\n",
      "data/perm_1000-1.p\n",
      "data/perm_1500-3.p\n",
      "data/perm_1500-0.p\n",
      "data/perm_1500-1.p\n",
      "data/perm_1500-2.p\n"
     ]
    }
   ],
   "source": [
    "# Reload if you've run the above experiment multiple times and have saved values \n",
    "\n",
    "betting_results = load_results('betting')\n",
    "perm_250_results = load_results('perm_250')\n",
    "perm_500_results = load_results('perm_500')\n",
    "perm_1000_results = load_results('perm_1000')\n",
    "# perm_1500_results = load_results('perm_1500')"
   ]
  },
  {
   "cell_type": "code",
   "execution_count": 161,
   "id": "d5c597e9",
   "metadata": {},
   "outputs": [
    {
     "data": {
      "image/png": "[encoded data removed]",
      "text/plain": [
       "<Figure size 432x288 with 1 Axes>"
      ]
     },
     "metadata": {
      "needs_background": "light"
     },
     "output_type": "display_data"
    }
   ],
   "source": [
    "mpl.rcParams['font.size'] = 18\n",
    "cm = plt.get_cmap('viridis') \n",
    "cmap = [cm(i) for i in np.linspace(0,1,5)]\n",
    "\n",
    "\n",
    "plt_mean_std(plt, betting_results, alphas, None, color='red', plot_std=False, ls='--')\n",
    "plt_mean_std(plt, perm_250_results, alphas, None, marker='s', color=cmap[0], plot_std=False)\n",
    "plt_mean_std(plt, perm_500_results, alphas, None, marker='s', color=cmap[1], plot_std=False)\n",
    "plt_mean_std(plt, perm_1000_results, alphas, None, marker='s', color=cmap[2], plot_std=False)\n",
    "\n",
    "\n",
    "# plt.legend(fontsize=12)\n",
    "plt.xlabel('$\\\\alpha$')\n",
    "plt.ylabel('Stopping time $\\\\tau$')\n",
    "plt.title('Stopping time under $H_1$')\n",
    "plt.savefig('plots/credit_loan.png', dpi=300, bbox_inches='tight')"
   ]
  },
  {
   "cell_type": "markdown",
   "id": "85675157",
   "metadata": {},
   "source": [
    "# Null"
   ]
  },
  {
   "cell_type": "code",
   "execution_count": 42,
   "id": "2d73eb6d",
   "metadata": {},
   "outputs": [
    {
     "data": {
      "text/plain": [
       "(0.0394941971245453, 0.0721915285451197)"
      ]
     },
     "execution_count": 42,
     "metadata": {},
     "output_type": "execute_result"
    }
   ],
   "source": [
    "np.mean(y1), np.mean(y2)"
   ]
  },
  {
   "cell_type": "code",
   "execution_count": 48,
   "id": "a137f803",
   "metadata": {},
   "outputs": [
    {
     "data": {
      "text/plain": [
       "(0.07219152854511969, 0.0721915285451197)"
      ]
     },
     "execution_count": 48,
     "metadata": {},
     "output_type": "execute_result"
    }
   ],
   "source": [
    "z1 = y1 + np.mean(y2) - np.mean(y1)\n",
    "z2 = y2 \n",
    "np.mean(z1), np.mean(z2)"
   ]
  },
  {
   "cell_type": "code",
   "execution_count": 99,
   "id": "7e2e046a",
   "metadata": {},
   "outputs": [],
   "source": [
    "iters = 20\n",
    "\n",
    "_, betting_rejects = betting_experiment(z1, z2, alphas, iters)\n",
    "save_results('betting_rejects_loan', betting_rejects)\n",
    "_, perm_250_rejects = seq_perm_test_experiment(z1, z2, alphas, iters, k=250, bonferroni=False)\n",
    "save_results('perm_250_rejects_loan', perm_250_rejects)\n",
    "_, perm_500_rejects = seq_perm_test_experiment(z1, z2, alphas, iters, k=500, bonferroni=False)\n",
    "save_results('perm_500_rejects_loan', perm_500_rejects)\n",
    "_, perm_1000_rejects = seq_perm_test_experiment(z1, z2, alphas, iters, k=1000, bonferroni=False)\n",
    "save_results('perm_1000_rejects_loan', perm_1000_rejects)"
   ]
  },
  {
   "cell_type": "code",
   "execution_count": 169,
   "id": "32137fe3",
   "metadata": {},
   "outputs": [],
   "source": [
    "# Reload if you've run the above experiment multiple times and have saved values \n",
    "\n",
    "betting_rejects = load_results('betting_rejects_loan')\n",
    "perm_250_rejects = load_results('perm_250_rejects_loan')\n",
    "perm_500_rejects = load_results('perm_500_rejects_loan')\n",
    "perm_1000_rejects = load_results('perm_1000_rejects_loan')"
   ]
  },
  {
   "cell_type": "code",
   "execution_count": 159,
   "id": "2b4e0e2b",
   "metadata": {},
   "outputs": [
    {
     "data": {
      "image/png": "[encoded data removed]",
      "text/plain": [
       "<Figure size 432x288 with 1 Axes>"
      ]
     },
     "metadata": {
      "needs_background": "light"
     },
     "output_type": "display_data"
    }
   ],
   "source": [
    "# mean = np.mean(betting_rejects, axis=0)\n",
    "# plt.plot(alphas, mean)\n",
    "\n",
    "plt_mean_std(plt, betting_rejects, alphas, None, color='red', ls='--', plot_std=False)\n",
    "plt_mean_std(plt, perm_250_rejects, alphas, None, marker='.', color=cmap[0], plot_std=False)\n",
    "plt_mean_std(plt, perm_500_rejects, alphas, None, marker='.', color=cmap[1], plot_std=False)\n",
    "plt_mean_std(plt, perm_1000_rejects, alphas, None, marker='.', color=cmap[2], plot_std=False)\n",
    "plt.plot([0, 0.1], [0, 0.1], color='k', lw=2, label='Desired FPR')\n",
    "plt.xlabel('$\\\\alpha$')\n",
    "plt.ylabel('False Positive Rate (FPR)')\n",
    "plt.title('Type-I error')\n",
    "plt.legend(fontsize=18, loc='upper left')\n",
    "plt.savefig('plots/loan_fpr.png', dpi=300, bbox_inches='tight')"
   ]
  },
  {
   "cell_type": "markdown",
   "id": "daf4ad71",
   "metadata": {},
   "source": [
    "# FDR versus tau "
   ]
  },
  {
   "cell_type": "code",
   "execution_count": 200,
   "id": "97314de1",
   "metadata": {},
   "outputs": [],
   "source": [
    "iters = 50 \n",
    "\n",
    "# betting_times, _ = betting_experiment(y1, y2, alphas, iters)\n",
    "perm_250_results, _ = seq_perm_test_experiment(y1, y2, alphas, iters, k=250, bonferroni=False)\n",
    "save_results('perm_250_loan_tau', perm_250_results)\n",
    "perm_500_results, _ = seq_perm_test_experiment(y1, y2, alphas, iters, k=500, bonferroni=False)\n",
    "save_results('perm_500_loan_tau', perm_500_results)\n",
    "perm_1000_results, _ = seq_perm_test_experiment(y1, y2, alphas, iters, k=1000, bonferroni=False)\n",
    "save_results('perm_1000_loan_tau', perm_1000_results)"
   ]
  },
  {
   "cell_type": "code",
   "execution_count": 198,
   "id": "9eaa40b5",
   "metadata": {},
   "outputs": [
    {
     "data": {
      "text/plain": [
       "Text(0, 0.5, 'FPR under $H_0$')"
      ]
     },
     "execution_count": 198,
     "metadata": {},
     "output_type": "execute_result"
    },
    {
     "data": {
      "image/png": "[encoded data removed]",
      "text/plain": [
       "<Figure size 432x288 with 1 Axes>"
      ]
     },
     "metadata": {
      "needs_background": "light"
     },
     "output_type": "display_data"
    }
   ],
   "source": [
    "cm = plt.get_cmap('viridis') \n",
    "cmap = [cm(i) for i in np.linspace(0,1,4)]\n",
    "\n",
    "\n",
    "plt.plot(np.mean(betting_results, axis=0), np.mean(betting_rejects, axis=0), 'o', c='red', label='Betting')\n",
    "plt.plot(np.mean(perm_250_results, axis=0), np.mean(perm_250_rejects, axis=0), 'o', c=cmap[0], label='Perm. test, $k=250$')\n",
    "plt.plot(np.mean(perm_500_results, axis=0), np.mean(perm_500_rejects, axis=0), 'o', c=cmap[1], label='Perm test, $k=500$')\n",
    "# Remove pareto dominated points\n",
    "inds = np.argsort(np.mean(perm_1000_rejects, axis=0))\n",
    "plt.plot(np.mean(perm_1000_results, axis=0)[inds[:-14]], np.mean(perm_1000_rejects, axis=0)[inds[:-14]], 'o', c=cmap[2], label='Perm. test, $k=1000$')\n",
    "\n",
    "plt.legend()\n",
    "plt.xlabel('Rejection time $\\\\tau$ under $H_1$')\n",
    "plt.ylabel('FPR under $H_0$')\n",
    "    "
   ]
  },
  {
   "cell_type": "markdown",
   "id": "6f038daf",
   "metadata": {},
   "source": [
    "# Distribution shift "
   ]
  },
  {
   "cell_type": "code",
   "execution_count": 101,
   "id": "200b2e5f",
   "metadata": {},
   "outputs": [
    {
     "name": "stderr",
     "output_type": "stream",
     "text": [
      "/Users/benchugg/opt/anaconda3/envs/playground/lib/python3.9/site-packages/sklearn/linear_model/_logistic.py:814: ConvergenceWarning: lbfgs failed to converge (status=1):\n",
      "STOP: TOTAL NO. of ITERATIONS REACHED LIMIT.\n",
      "\n",
      "Increase the number of iterations (max_iter) or scale the data as shown in:\n",
      "    https://scikit-learn.org/stable/modules/preprocessing.html\n",
      "Please also refer to the documentation for alternative solver options:\n",
      "    https://scikit-learn.org/stable/modules/linear_model.html#logistic-regression\n",
      "  n_iter_i = _check_optimize_result(\n"
     ]
    }
   ],
   "source": [
    "# Switch to another model halfway through \n",
    "lr = LogisticRegression(random_state=42)\n",
    "lr.fit(X_train, y_train)\n",
    "y1_lr = lr.predict(X1)\n",
    "y2_lr = lr.predict(X2)\n"
   ]
  },
  {
   "cell_type": "code",
   "execution_count": 210,
   "id": "eb94ea62",
   "metadata": {},
   "outputs": [],
   "source": [
    "pipe = make_pipeline(StandardScaler(), LogisticRegression(random_state=42))\n",
    "pipe.fit(X_train, y_train)  # apply scaling on training data\n",
    "y1_lr = pipe.predict(X1)\n",
    "y2_lr = pipe.predict(X2)"
   ]
  },
  {
   "cell_type": "code",
   "execution_count": 105,
   "id": "47005072",
   "metadata": {},
   "outputs": [
    {
     "data": {
      "text/plain": [
       "(0.015070154165944916, 0.03572744014732965)"
      ]
     },
     "execution_count": 105,
     "metadata": {},
     "output_type": "execute_result"
    }
   ],
   "source": [
    "np.mean(y1_lr), np.mean(y2_lr)"
   ]
  },
  {
   "cell_type": "code",
   "execution_count": 118,
   "id": "587eb30f",
   "metadata": {},
   "outputs": [],
   "source": [
    "shift_time = 400\n",
    "seq1 = np.concatenate((z1[:shift_time], y1_lr[shift_time:]))\n",
    "seq2 = np.concatenate((z2[:shift_time], y2_lr[shift_time:]))"
   ]
  },
  {
   "cell_type": "code",
   "execution_count": 148,
   "id": "7507bc3c",
   "metadata": {},
   "outputs": [],
   "source": [
    "iters = 20 \n",
    "\n",
    "betting_shift, _ = betting_experiment(seq1, seq2, alphas, iters, shift_time=shift_time)\n",
    "perm_250_shift, _ = seq_perm_test_experiment(seq1, seq2, alphas, iters, k=250, bonferroni=True, shift_time=shift_time)\n",
    "perm_500_shift, _ = seq_perm_test_experiment(seq1, seq2, alphas, iters, k=500, bonferroni=True, shift_time=shift_time)\n",
    "perm_1000_shift, _ = seq_perm_test_experiment(seq1, seq2, alphas, iters, k=1000, bonferroni=True, shift_time=shift_time)\n",
    "\n",
    "save_results('betting_shift_loan', betting_shift)\n",
    "save_results('perm_250_shift_loan', perm_250_shift)\n",
    "save_results('perm_500_shift_loan', perm_500_shift)\n",
    "save_results('perm_1000_shift_loan', perm_1000_shift)"
   ]
  },
  {
   "cell_type": "code",
   "execution_count": 149,
   "id": "e626ef10",
   "metadata": {},
   "outputs": [],
   "source": [
    "betting_shift = load_results('betting_shift_loan')\n",
    "perm_250_shift = load_results('perm_250_shift_loan')\n",
    "perm_500_shift = load_results('perm_500_shift_loan')\n",
    "perm_1000_shift = load_results('perm_1000_shift_loan')"
   ]
  },
  {
   "cell_type": "code",
   "execution_count": 160,
   "id": "d75a2f08",
   "metadata": {},
   "outputs": [
    {
     "data": {
      "image/png": "[encoded data removed]",
      "text/plain": [
       "<Figure size 432x288 with 1 Axes>"
      ]
     },
     "metadata": {
      "needs_background": "light"
     },
     "output_type": "display_data"
    }
   ],
   "source": [
    "plt_mean_std(plt, betting_shift, alphas, None, color='red', ls='--', plot_std=False)\n",
    "plt_mean_std(plt, perm_250_shift, alphas, None, color=cmap[0], marker='s', plot_std=False)\n",
    "plt_mean_std(plt, perm_500_shift, alphas, None, color=cmap[1], marker='s', plot_std=False)\n",
    "plt_mean_std(plt, perm_1000_shift, alphas, None, color=cmap[2], marker='s', plot_std=False)\n",
    "\n",
    "# plt.legend()\n",
    "plt.xlabel('$\\\\alpha$')\n",
    "plt.ylabel('Stopping time $\\\\tau$')\n",
    "plt.title('Stopping time under $H_1$ w/ shift')\n",
    "plt.savefig('plots/loan_shift.png', dpi=300, bbox_inches='tight')"
   ]
  },
  {
   "cell_type": "code",
   "execution_count": 153,
   "id": "f64d2274",
   "metadata": {},
   "outputs": [
    {
     "data": {
      "image/png": "[encoded data removed]",
      "text/plain": [
       "<Figure size 432x288 with 1 Axes>"
      ]
     },
     "metadata": {
      "needs_background": "light"
     },
     "output_type": "display_data"
    }
   ],
   "source": [
    "mpl.rcParams['text.usetex'] = True\n",
    "\n",
    "plt.plot([], [], label='Perm. Test (M1), $k=250$', color=cmap[0], marker='.')\n",
    "plt.plot([], [], label='Perm. Test (M2), $k=250$', color=cmap[0], marker='s')\n",
    "\n",
    "plt.plot([], [], label='Perm. Test (M1), $k=500$', color=cmap[1], marker='.')\n",
    "plt.plot([], [], label='Perm. Test (M2), $k=500$', color=cmap[1], marker='s')\n",
    "\n",
    "\n",
    "plt.plot([], [], label='Perm. Test (M1), $k=1000$', color=cmap[2], marker='.')\n",
    "plt.plot([], [], label='Perm. Test (M2), $k=1000$', color=cmap[2], marker='s')\n",
    "\n",
    "plt.plot([], [], label='Betting', color='red', ls='--')\n",
    "\n",
    "plt.legend(bbox_to_anchor=(1,-0.1), ncol=4)\n",
    "plt.savefig('plots/legend.png', dpi=300, bbox_inches='tight', facecolor='white')"
   ]
  }
 ],
 "metadata": {
  "kernelspec": {
   "display_name": "Python 3 (ipykernel)",
   "language": "python",
   "name": "python3"
  },
  "language_info": {
   "codemirror_mode": {
    "name": "ipython",
    "version": 3
   },
   "file_extension": ".py",
   "mimetype": "text/x-python",
   "name": "python",
   "nbconvert_exporter": "python",
   "pygments_lexer": "ipython3",
   "version": "3.9.12"
  }
 },
 "nbformat": 4,
 "nbformat_minor": 5
}
